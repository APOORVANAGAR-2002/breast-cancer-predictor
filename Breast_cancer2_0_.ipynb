{
  "nbformat": 4,
  "nbformat_minor": 0,
  "metadata": {
    "colab": {
      "name": "Breast cancer2.0 .ipynb",
      "provenance": [],
      "authorship_tag": "ABX9TyNeglBCiLUJUKrM/Wes8cjG",
      "include_colab_link": true
    },
    "kernelspec": {
      "name": "python3",
      "display_name": "Python 3"
    },
    "language_info": {
      "name": "python"
    }
  },
  "cells": [
    {
      "cell_type": "markdown",
      "metadata": {
        "id": "view-in-github",
        "colab_type": "text"
      },
      "source": [
        "<a href=\"https://colab.research.google.com/github/ayushi-get/breast-cancer-predictor/blob/main/Breast_cancer2_0_.ipynb\" target=\"_parent\"><img src=\"https://colab.research.google.com/assets/colab-badge.svg\" alt=\"Open In Colab\"/></a>"
      ]
    },
    {
      "cell_type": "code",
      "metadata": {
        "id": "9WVOveJ9htw-"
      },
      "source": [
        "import pandas as pd\n",
        "import numpy as np\n",
        "from sklearn.datasets import load_breast_cancer \n",
        "from sklearn.preprocessing import StandardScaler\n",
        "from keras.models import Sequential\n",
        "from keras.layers import Dense\n",
        "data =load_breast_cancer()"
      ],
      "execution_count": null,
      "outputs": []
    },
    {
      "cell_type": "code",
      "metadata": {
        "colab": {
          "base_uri": "https://localhost:8080/"
        },
        "id": "x-OCHWS2io30",
        "outputId": "ec0e3eb8-d26e-4bf8-ca95-53256da97e45"
      },
      "source": [
        "data"
      ],
      "execution_count": null,
      "outputs": [
        {
          "output_type": "execute_result",
          "data": {
            "text/plain": [
              "{'DESCR': '.. _breast_cancer_dataset:\\n\\nBreast cancer wisconsin (diagnostic) dataset\\n--------------------------------------------\\n\\n**Data Set Characteristics:**\\n\\n    :Number of Instances: 569\\n\\n    :Number of Attributes: 30 numeric, predictive attributes and the class\\n\\n    :Attribute Information:\\n        - radius (mean of distances from center to points on the perimeter)\\n        - texture (standard deviation of gray-scale values)\\n        - perimeter\\n        - area\\n        - smoothness (local variation in radius lengths)\\n        - compactness (perimeter^2 / area - 1.0)\\n        - concavity (severity of concave portions of the contour)\\n        - concave points (number of concave portions of the contour)\\n        - symmetry\\n        - fractal dimension (\"coastline approximation\" - 1)\\n\\n        The mean, standard error, and \"worst\" or largest (mean of the three\\n        worst/largest values) of these features were computed for each image,\\n        resulting in 30 features.  For instance, field 0 is Mean Radius, field\\n        10 is Radius SE, field 20 is Worst Radius.\\n\\n        - class:\\n                - WDBC-Malignant\\n                - WDBC-Benign\\n\\n    :Summary Statistics:\\n\\n    ===================================== ====== ======\\n                                           Min    Max\\n    ===================================== ====== ======\\n    radius (mean):                        6.981  28.11\\n    texture (mean):                       9.71   39.28\\n    perimeter (mean):                     43.79  188.5\\n    area (mean):                          143.5  2501.0\\n    smoothness (mean):                    0.053  0.163\\n    compactness (mean):                   0.019  0.345\\n    concavity (mean):                     0.0    0.427\\n    concave points (mean):                0.0    0.201\\n    symmetry (mean):                      0.106  0.304\\n    fractal dimension (mean):             0.05   0.097\\n    radius (standard error):              0.112  2.873\\n    texture (standard error):             0.36   4.885\\n    perimeter (standard error):           0.757  21.98\\n    area (standard error):                6.802  542.2\\n    smoothness (standard error):          0.002  0.031\\n    compactness (standard error):         0.002  0.135\\n    concavity (standard error):           0.0    0.396\\n    concave points (standard error):      0.0    0.053\\n    symmetry (standard error):            0.008  0.079\\n    fractal dimension (standard error):   0.001  0.03\\n    radius (worst):                       7.93   36.04\\n    texture (worst):                      12.02  49.54\\n    perimeter (worst):                    50.41  251.2\\n    area (worst):                         185.2  4254.0\\n    smoothness (worst):                   0.071  0.223\\n    compactness (worst):                  0.027  1.058\\n    concavity (worst):                    0.0    1.252\\n    concave points (worst):               0.0    0.291\\n    symmetry (worst):                     0.156  0.664\\n    fractal dimension (worst):            0.055  0.208\\n    ===================================== ====== ======\\n\\n    :Missing Attribute Values: None\\n\\n    :Class Distribution: 212 - Malignant, 357 - Benign\\n\\n    :Creator:  Dr. William H. Wolberg, W. Nick Street, Olvi L. Mangasarian\\n\\n    :Donor: Nick Street\\n\\n    :Date: November, 1995\\n\\nThis is a copy of UCI ML Breast Cancer Wisconsin (Diagnostic) datasets.\\nhttps://goo.gl/U2Uwz2\\n\\nFeatures are computed from a digitized image of a fine needle\\naspirate (FNA) of a breast mass.  They describe\\ncharacteristics of the cell nuclei present in the image.\\n\\nSeparating plane described above was obtained using\\nMultisurface Method-Tree (MSM-T) [K. P. Bennett, \"Decision Tree\\nConstruction Via Linear Programming.\" Proceedings of the 4th\\nMidwest Artificial Intelligence and Cognitive Science Society,\\npp. 97-101, 1992], a classification method which uses linear\\nprogramming to construct a decision tree.  Relevant features\\nwere selected using an exhaustive search in the space of 1-4\\nfeatures and 1-3 separating planes.\\n\\nThe actual linear program used to obtain the separating plane\\nin the 3-dimensional space is that described in:\\n[K. P. Bennett and O. L. Mangasarian: \"Robust Linear\\nProgramming Discrimination of Two Linearly Inseparable Sets\",\\nOptimization Methods and Software 1, 1992, 23-34].\\n\\nThis database is also available through the UW CS ftp server:\\n\\nftp ftp.cs.wisc.edu\\ncd math-prog/cpo-dataset/machine-learn/WDBC/\\n\\n.. topic:: References\\n\\n   - W.N. Street, W.H. Wolberg and O.L. Mangasarian. Nuclear feature extraction \\n     for breast tumor diagnosis. IS&T/SPIE 1993 International Symposium on \\n     Electronic Imaging: Science and Technology, volume 1905, pages 861-870,\\n     San Jose, CA, 1993.\\n   - O.L. Mangasarian, W.N. Street and W.H. Wolberg. Breast cancer diagnosis and \\n     prognosis via linear programming. Operations Research, 43(4), pages 570-577, \\n     July-August 1995.\\n   - W.H. Wolberg, W.N. Street, and O.L. Mangasarian. Machine learning techniques\\n     to diagnose breast cancer from fine-needle aspirates. Cancer Letters 77 (1994) \\n     163-171.',\n",
              " 'data': array([[1.799e+01, 1.038e+01, 1.228e+02, ..., 2.654e-01, 4.601e-01,\n",
              "         1.189e-01],\n",
              "        [2.057e+01, 1.777e+01, 1.329e+02, ..., 1.860e-01, 2.750e-01,\n",
              "         8.902e-02],\n",
              "        [1.969e+01, 2.125e+01, 1.300e+02, ..., 2.430e-01, 3.613e-01,\n",
              "         8.758e-02],\n",
              "        ...,\n",
              "        [1.660e+01, 2.808e+01, 1.083e+02, ..., 1.418e-01, 2.218e-01,\n",
              "         7.820e-02],\n",
              "        [2.060e+01, 2.933e+01, 1.401e+02, ..., 2.650e-01, 4.087e-01,\n",
              "         1.240e-01],\n",
              "        [7.760e+00, 2.454e+01, 4.792e+01, ..., 0.000e+00, 2.871e-01,\n",
              "         7.039e-02]]),\n",
              " 'data_module': 'sklearn.datasets.data',\n",
              " 'feature_names': array(['mean radius', 'mean texture', 'mean perimeter', 'mean area',\n",
              "        'mean smoothness', 'mean compactness', 'mean concavity',\n",
              "        'mean concave points', 'mean symmetry', 'mean fractal dimension',\n",
              "        'radius error', 'texture error', 'perimeter error', 'area error',\n",
              "        'smoothness error', 'compactness error', 'concavity error',\n",
              "        'concave points error', 'symmetry error',\n",
              "        'fractal dimension error', 'worst radius', 'worst texture',\n",
              "        'worst perimeter', 'worst area', 'worst smoothness',\n",
              "        'worst compactness', 'worst concavity', 'worst concave points',\n",
              "        'worst symmetry', 'worst fractal dimension'], dtype='<U23'),\n",
              " 'filename': 'breast_cancer.csv',\n",
              " 'frame': None,\n",
              " 'target': array([0, 0, 0, 0, 0, 0, 0, 0, 0, 0, 0, 0, 0, 0, 0, 0, 0, 0, 0, 1, 1, 1,\n",
              "        0, 0, 0, 0, 0, 0, 0, 0, 0, 0, 0, 0, 0, 0, 0, 1, 0, 0, 0, 0, 0, 0,\n",
              "        0, 0, 1, 0, 1, 1, 1, 1, 1, 0, 0, 1, 0, 0, 1, 1, 1, 1, 0, 1, 0, 0,\n",
              "        1, 1, 1, 1, 0, 1, 0, 0, 1, 0, 1, 0, 0, 1, 1, 1, 0, 0, 1, 0, 0, 0,\n",
              "        1, 1, 1, 0, 1, 1, 0, 0, 1, 1, 1, 0, 0, 1, 1, 1, 1, 0, 1, 1, 0, 1,\n",
              "        1, 1, 1, 1, 1, 1, 1, 0, 0, 0, 1, 0, 0, 1, 1, 1, 0, 0, 1, 0, 1, 0,\n",
              "        0, 1, 0, 0, 1, 1, 0, 1, 1, 0, 1, 1, 1, 1, 0, 1, 1, 1, 1, 1, 1, 1,\n",
              "        1, 1, 0, 1, 1, 1, 1, 0, 0, 1, 0, 1, 1, 0, 0, 1, 1, 0, 0, 1, 1, 1,\n",
              "        1, 0, 1, 1, 0, 0, 0, 1, 0, 1, 0, 1, 1, 1, 0, 1, 1, 0, 0, 1, 0, 0,\n",
              "        0, 0, 1, 0, 0, 0, 1, 0, 1, 0, 1, 1, 0, 1, 0, 0, 0, 0, 1, 1, 0, 0,\n",
              "        1, 1, 1, 0, 1, 1, 1, 1, 1, 0, 0, 1, 1, 0, 1, 1, 0, 0, 1, 0, 1, 1,\n",
              "        1, 1, 0, 1, 1, 1, 1, 1, 0, 1, 0, 0, 0, 0, 0, 0, 0, 0, 0, 0, 0, 0,\n",
              "        0, 0, 1, 1, 1, 1, 1, 1, 0, 1, 0, 1, 1, 0, 1, 1, 0, 1, 0, 0, 1, 1,\n",
              "        1, 1, 1, 1, 1, 1, 1, 1, 1, 1, 1, 0, 1, 1, 0, 1, 0, 1, 1, 1, 1, 1,\n",
              "        1, 1, 1, 1, 1, 1, 1, 1, 1, 0, 1, 1, 1, 0, 1, 0, 1, 1, 1, 1, 0, 0,\n",
              "        0, 1, 1, 1, 1, 0, 1, 0, 1, 0, 1, 1, 1, 0, 1, 1, 1, 1, 1, 1, 1, 0,\n",
              "        0, 0, 1, 1, 1, 1, 1, 1, 1, 1, 1, 1, 1, 0, 0, 1, 0, 0, 0, 1, 0, 0,\n",
              "        1, 1, 1, 1, 1, 0, 1, 1, 1, 1, 1, 0, 1, 1, 1, 0, 1, 1, 0, 0, 1, 1,\n",
              "        1, 1, 1, 1, 0, 1, 1, 1, 1, 1, 1, 1, 0, 1, 1, 1, 1, 1, 0, 1, 1, 0,\n",
              "        1, 1, 1, 1, 1, 1, 1, 1, 1, 1, 1, 1, 0, 1, 0, 0, 1, 0, 1, 1, 1, 1,\n",
              "        1, 0, 1, 1, 0, 1, 0, 1, 1, 0, 1, 0, 1, 1, 1, 1, 1, 1, 1, 1, 0, 0,\n",
              "        1, 1, 1, 1, 1, 1, 0, 1, 1, 1, 1, 1, 1, 1, 1, 1, 1, 0, 1, 1, 1, 1,\n",
              "        1, 1, 1, 0, 1, 0, 1, 1, 0, 1, 1, 1, 1, 1, 0, 0, 1, 0, 1, 0, 1, 1,\n",
              "        1, 1, 1, 0, 1, 1, 0, 1, 0, 1, 0, 0, 1, 1, 1, 0, 1, 1, 1, 1, 1, 1,\n",
              "        1, 1, 1, 1, 1, 0, 1, 0, 0, 1, 1, 1, 1, 1, 1, 1, 1, 1, 1, 1, 1, 1,\n",
              "        1, 1, 1, 1, 1, 1, 1, 1, 1, 1, 1, 1, 0, 0, 0, 0, 0, 0, 1]),\n",
              " 'target_names': array(['malignant', 'benign'], dtype='<U9')}"
            ]
          },
          "metadata": {},
          "execution_count": 2
        }
      ]
    },
    {
      "cell_type": "code",
      "metadata": {
        "colab": {
          "base_uri": "https://localhost:8080/"
        },
        "id": "dL49OZHTiqHY",
        "outputId": "bb03e824-d8ef-4a71-a703-5077a8a5874e"
      },
      "source": [
        "data.keys()"
      ],
      "execution_count": null,
      "outputs": [
        {
          "output_type": "execute_result",
          "data": {
            "text/plain": [
              "dict_keys(['data', 'target', 'frame', 'target_names', 'DESCR', 'feature_names', 'filename', 'data_module'])"
            ]
          },
          "metadata": {},
          "execution_count": 3
        }
      ]
    },
    {
      "cell_type": "code",
      "metadata": {
        "colab": {
          "base_uri": "https://localhost:8080/"
        },
        "id": "hJfDDLVmjzxr",
        "outputId": "02d9a7b6-dfc2-434f-c190-3b8dc0ebebc1"
      },
      "source": [
        "print(data['DESCR'])"
      ],
      "execution_count": null,
      "outputs": [
        {
          "output_type": "stream",
          "name": "stdout",
          "text": [
            ".. _breast_cancer_dataset:\n",
            "\n",
            "Breast cancer wisconsin (diagnostic) dataset\n",
            "--------------------------------------------\n",
            "\n",
            "**Data Set Characteristics:**\n",
            "\n",
            "    :Number of Instances: 569\n",
            "\n",
            "    :Number of Attributes: 30 numeric, predictive attributes and the class\n",
            "\n",
            "    :Attribute Information:\n",
            "        - radius (mean of distances from center to points on the perimeter)\n",
            "        - texture (standard deviation of gray-scale values)\n",
            "        - perimeter\n",
            "        - area\n",
            "        - smoothness (local variation in radius lengths)\n",
            "        - compactness (perimeter^2 / area - 1.0)\n",
            "        - concavity (severity of concave portions of the contour)\n",
            "        - concave points (number of concave portions of the contour)\n",
            "        - symmetry\n",
            "        - fractal dimension (\"coastline approximation\" - 1)\n",
            "\n",
            "        The mean, standard error, and \"worst\" or largest (mean of the three\n",
            "        worst/largest values) of these features were computed for each image,\n",
            "        resulting in 30 features.  For instance, field 0 is Mean Radius, field\n",
            "        10 is Radius SE, field 20 is Worst Radius.\n",
            "\n",
            "        - class:\n",
            "                - WDBC-Malignant\n",
            "                - WDBC-Benign\n",
            "\n",
            "    :Summary Statistics:\n",
            "\n",
            "    ===================================== ====== ======\n",
            "                                           Min    Max\n",
            "    ===================================== ====== ======\n",
            "    radius (mean):                        6.981  28.11\n",
            "    texture (mean):                       9.71   39.28\n",
            "    perimeter (mean):                     43.79  188.5\n",
            "    area (mean):                          143.5  2501.0\n",
            "    smoothness (mean):                    0.053  0.163\n",
            "    compactness (mean):                   0.019  0.345\n",
            "    concavity (mean):                     0.0    0.427\n",
            "    concave points (mean):                0.0    0.201\n",
            "    symmetry (mean):                      0.106  0.304\n",
            "    fractal dimension (mean):             0.05   0.097\n",
            "    radius (standard error):              0.112  2.873\n",
            "    texture (standard error):             0.36   4.885\n",
            "    perimeter (standard error):           0.757  21.98\n",
            "    area (standard error):                6.802  542.2\n",
            "    smoothness (standard error):          0.002  0.031\n",
            "    compactness (standard error):         0.002  0.135\n",
            "    concavity (standard error):           0.0    0.396\n",
            "    concave points (standard error):      0.0    0.053\n",
            "    symmetry (standard error):            0.008  0.079\n",
            "    fractal dimension (standard error):   0.001  0.03\n",
            "    radius (worst):                       7.93   36.04\n",
            "    texture (worst):                      12.02  49.54\n",
            "    perimeter (worst):                    50.41  251.2\n",
            "    area (worst):                         185.2  4254.0\n",
            "    smoothness (worst):                   0.071  0.223\n",
            "    compactness (worst):                  0.027  1.058\n",
            "    concavity (worst):                    0.0    1.252\n",
            "    concave points (worst):               0.0    0.291\n",
            "    symmetry (worst):                     0.156  0.664\n",
            "    fractal dimension (worst):            0.055  0.208\n",
            "    ===================================== ====== ======\n",
            "\n",
            "    :Missing Attribute Values: None\n",
            "\n",
            "    :Class Distribution: 212 - Malignant, 357 - Benign\n",
            "\n",
            "    :Creator:  Dr. William H. Wolberg, W. Nick Street, Olvi L. Mangasarian\n",
            "\n",
            "    :Donor: Nick Street\n",
            "\n",
            "    :Date: November, 1995\n",
            "\n",
            "This is a copy of UCI ML Breast Cancer Wisconsin (Diagnostic) datasets.\n",
            "https://goo.gl/U2Uwz2\n",
            "\n",
            "Features are computed from a digitized image of a fine needle\n",
            "aspirate (FNA) of a breast mass.  They describe\n",
            "characteristics of the cell nuclei present in the image.\n",
            "\n",
            "Separating plane described above was obtained using\n",
            "Multisurface Method-Tree (MSM-T) [K. P. Bennett, \"Decision Tree\n",
            "Construction Via Linear Programming.\" Proceedings of the 4th\n",
            "Midwest Artificial Intelligence and Cognitive Science Society,\n",
            "pp. 97-101, 1992], a classification method which uses linear\n",
            "programming to construct a decision tree.  Relevant features\n",
            "were selected using an exhaustive search in the space of 1-4\n",
            "features and 1-3 separating planes.\n",
            "\n",
            "The actual linear program used to obtain the separating plane\n",
            "in the 3-dimensional space is that described in:\n",
            "[K. P. Bennett and O. L. Mangasarian: \"Robust Linear\n",
            "Programming Discrimination of Two Linearly Inseparable Sets\",\n",
            "Optimization Methods and Software 1, 1992, 23-34].\n",
            "\n",
            "This database is also available through the UW CS ftp server:\n",
            "\n",
            "ftp ftp.cs.wisc.edu\n",
            "cd math-prog/cpo-dataset/machine-learn/WDBC/\n",
            "\n",
            ".. topic:: References\n",
            "\n",
            "   - W.N. Street, W.H. Wolberg and O.L. Mangasarian. Nuclear feature extraction \n",
            "     for breast tumor diagnosis. IS&T/SPIE 1993 International Symposium on \n",
            "     Electronic Imaging: Science and Technology, volume 1905, pages 861-870,\n",
            "     San Jose, CA, 1993.\n",
            "   - O.L. Mangasarian, W.N. Street and W.H. Wolberg. Breast cancer diagnosis and \n",
            "     prognosis via linear programming. Operations Research, 43(4), pages 570-577, \n",
            "     July-August 1995.\n",
            "   - W.H. Wolberg, W.N. Street, and O.L. Mangasarian. Machine learning techniques\n",
            "     to diagnose breast cancer from fine-needle aspirates. Cancer Letters 77 (1994) \n",
            "     163-171.\n"
          ]
        }
      ]
    },
    {
      "cell_type": "code",
      "metadata": {
        "colab": {
          "base_uri": "https://localhost:8080/"
        },
        "id": "WFBDjGNpiuFt",
        "outputId": "d007e854-9dcc-49d2-90d2-ac31c44333b2"
      },
      "source": [
        "data['data'].shape"
      ],
      "execution_count": null,
      "outputs": [
        {
          "output_type": "execute_result",
          "data": {
            "text/plain": [
              "(569, 30)"
            ]
          },
          "metadata": {},
          "execution_count": 5
        }
      ]
    },
    {
      "cell_type": "code",
      "metadata": {
        "colab": {
          "base_uri": "https://localhost:8080/"
        },
        "id": "SaReML_Jjt4a",
        "outputId": "f2b2e743-9845-4382-b29d-ed37c9d6b52c"
      },
      "source": [
        "data['feature_names']"
      ],
      "execution_count": null,
      "outputs": [
        {
          "output_type": "execute_result",
          "data": {
            "text/plain": [
              "array(['mean radius', 'mean texture', 'mean perimeter', 'mean area',\n",
              "       'mean smoothness', 'mean compactness', 'mean concavity',\n",
              "       'mean concave points', 'mean symmetry', 'mean fractal dimension',\n",
              "       'radius error', 'texture error', 'perimeter error', 'area error',\n",
              "       'smoothness error', 'compactness error', 'concavity error',\n",
              "       'concave points error', 'symmetry error',\n",
              "       'fractal dimension error', 'worst radius', 'worst texture',\n",
              "       'worst perimeter', 'worst area', 'worst smoothness',\n",
              "       'worst compactness', 'worst concavity', 'worst concave points',\n",
              "       'worst symmetry', 'worst fractal dimension'], dtype='<U23')"
            ]
          },
          "metadata": {},
          "execution_count": 6
        }
      ]
    },
    {
      "cell_type": "code",
      "metadata": {
        "colab": {
          "base_uri": "https://localhost:8080/"
        },
        "id": "lj01cs9xlQih",
        "outputId": "61700c37-8306-48b5-9915-118adb39f511"
      },
      "source": [
        "data['data'][0]"
      ],
      "execution_count": null,
      "outputs": [
        {
          "output_type": "execute_result",
          "data": {
            "text/plain": [
              "array([1.799e+01, 1.038e+01, 1.228e+02, 1.001e+03, 1.184e-01, 2.776e-01,\n",
              "       3.001e-01, 1.471e-01, 2.419e-01, 7.871e-02, 1.095e+00, 9.053e-01,\n",
              "       8.589e+00, 1.534e+02, 6.399e-03, 4.904e-02, 5.373e-02, 1.587e-02,\n",
              "       3.003e-02, 6.193e-03, 2.538e+01, 1.733e+01, 1.846e+02, 2.019e+03,\n",
              "       1.622e-01, 6.656e-01, 7.119e-01, 2.654e-01, 4.601e-01, 1.189e-01])"
            ]
          },
          "metadata": {},
          "execution_count": 7
        }
      ]
    },
    {
      "cell_type": "code",
      "metadata": {
        "colab": {
          "base_uri": "https://localhost:8080/"
        },
        "id": "8cyZPm3BlTRi",
        "outputId": "b6750ba5-a148-4031-f832-797d4b959e02"
      },
      "source": [
        "data['target']"
      ],
      "execution_count": null,
      "outputs": [
        {
          "output_type": "execute_result",
          "data": {
            "text/plain": [
              "array([0, 0, 0, 0, 0, 0, 0, 0, 0, 0, 0, 0, 0, 0, 0, 0, 0, 0, 0, 1, 1, 1,\n",
              "       0, 0, 0, 0, 0, 0, 0, 0, 0, 0, 0, 0, 0, 0, 0, 1, 0, 0, 0, 0, 0, 0,\n",
              "       0, 0, 1, 0, 1, 1, 1, 1, 1, 0, 0, 1, 0, 0, 1, 1, 1, 1, 0, 1, 0, 0,\n",
              "       1, 1, 1, 1, 0, 1, 0, 0, 1, 0, 1, 0, 0, 1, 1, 1, 0, 0, 1, 0, 0, 0,\n",
              "       1, 1, 1, 0, 1, 1, 0, 0, 1, 1, 1, 0, 0, 1, 1, 1, 1, 0, 1, 1, 0, 1,\n",
              "       1, 1, 1, 1, 1, 1, 1, 0, 0, 0, 1, 0, 0, 1, 1, 1, 0, 0, 1, 0, 1, 0,\n",
              "       0, 1, 0, 0, 1, 1, 0, 1, 1, 0, 1, 1, 1, 1, 0, 1, 1, 1, 1, 1, 1, 1,\n",
              "       1, 1, 0, 1, 1, 1, 1, 0, 0, 1, 0, 1, 1, 0, 0, 1, 1, 0, 0, 1, 1, 1,\n",
              "       1, 0, 1, 1, 0, 0, 0, 1, 0, 1, 0, 1, 1, 1, 0, 1, 1, 0, 0, 1, 0, 0,\n",
              "       0, 0, 1, 0, 0, 0, 1, 0, 1, 0, 1, 1, 0, 1, 0, 0, 0, 0, 1, 1, 0, 0,\n",
              "       1, 1, 1, 0, 1, 1, 1, 1, 1, 0, 0, 1, 1, 0, 1, 1, 0, 0, 1, 0, 1, 1,\n",
              "       1, 1, 0, 1, 1, 1, 1, 1, 0, 1, 0, 0, 0, 0, 0, 0, 0, 0, 0, 0, 0, 0,\n",
              "       0, 0, 1, 1, 1, 1, 1, 1, 0, 1, 0, 1, 1, 0, 1, 1, 0, 1, 0, 0, 1, 1,\n",
              "       1, 1, 1, 1, 1, 1, 1, 1, 1, 1, 1, 0, 1, 1, 0, 1, 0, 1, 1, 1, 1, 1,\n",
              "       1, 1, 1, 1, 1, 1, 1, 1, 1, 0, 1, 1, 1, 0, 1, 0, 1, 1, 1, 1, 0, 0,\n",
              "       0, 1, 1, 1, 1, 0, 1, 0, 1, 0, 1, 1, 1, 0, 1, 1, 1, 1, 1, 1, 1, 0,\n",
              "       0, 0, 1, 1, 1, 1, 1, 1, 1, 1, 1, 1, 1, 0, 0, 1, 0, 0, 0, 1, 0, 0,\n",
              "       1, 1, 1, 1, 1, 0, 1, 1, 1, 1, 1, 0, 1, 1, 1, 0, 1, 1, 0, 0, 1, 1,\n",
              "       1, 1, 1, 1, 0, 1, 1, 1, 1, 1, 1, 1, 0, 1, 1, 1, 1, 1, 0, 1, 1, 0,\n",
              "       1, 1, 1, 1, 1, 1, 1, 1, 1, 1, 1, 1, 0, 1, 0, 0, 1, 0, 1, 1, 1, 1,\n",
              "       1, 0, 1, 1, 0, 1, 0, 1, 1, 0, 1, 0, 1, 1, 1, 1, 1, 1, 1, 1, 0, 0,\n",
              "       1, 1, 1, 1, 1, 1, 0, 1, 1, 1, 1, 1, 1, 1, 1, 1, 1, 0, 1, 1, 1, 1,\n",
              "       1, 1, 1, 0, 1, 0, 1, 1, 0, 1, 1, 1, 1, 1, 0, 0, 1, 0, 1, 0, 1, 1,\n",
              "       1, 1, 1, 0, 1, 1, 0, 1, 0, 1, 0, 0, 1, 1, 1, 0, 1, 1, 1, 1, 1, 1,\n",
              "       1, 1, 1, 1, 1, 0, 1, 0, 0, 1, 1, 1, 1, 1, 1, 1, 1, 1, 1, 1, 1, 1,\n",
              "       1, 1, 1, 1, 1, 1, 1, 1, 1, 1, 1, 1, 0, 0, 0, 0, 0, 0, 1])"
            ]
          },
          "metadata": {},
          "execution_count": 8
        }
      ]
    },
    {
      "cell_type": "code",
      "metadata": {
        "colab": {
          "base_uri": "https://localhost:8080/"
        },
        "id": "aTRY781rlZh-",
        "outputId": "33a5f9da-cd87-4cca-fff2-4cbc07d953b2"
      },
      "source": [
        "j=0\n",
        "for i in data['feature_names']:\n",
        "  print(i,\":\",data['data'][0][j])\n",
        "  j+=1\n"
      ],
      "execution_count": null,
      "outputs": [
        {
          "output_type": "stream",
          "name": "stdout",
          "text": [
            "mean radius : 17.99\n",
            "mean texture : 10.38\n",
            "mean perimeter : 122.8\n",
            "mean area : 1001.0\n",
            "mean smoothness : 0.1184\n",
            "mean compactness : 0.2776\n",
            "mean concavity : 0.3001\n",
            "mean concave points : 0.1471\n",
            "mean symmetry : 0.2419\n",
            "mean fractal dimension : 0.07871\n",
            "radius error : 1.095\n",
            "texture error : 0.9053\n",
            "perimeter error : 8.589\n",
            "area error : 153.4\n",
            "smoothness error : 0.006399\n",
            "compactness error : 0.04904\n",
            "concavity error : 0.05373\n",
            "concave points error : 0.01587\n",
            "symmetry error : 0.03003\n",
            "fractal dimension error : 0.006193\n",
            "worst radius : 25.38\n",
            "worst texture : 17.33\n",
            "worst perimeter : 184.6\n",
            "worst area : 2019.0\n",
            "worst smoothness : 0.1622\n",
            "worst compactness : 0.6656\n",
            "worst concavity : 0.7119\n",
            "worst concave points : 0.2654\n",
            "worst symmetry : 0.4601\n",
            "worst fractal dimension : 0.1189\n"
          ]
        }
      ]
    },
    {
      "cell_type": "code",
      "metadata": {
        "colab": {
          "base_uri": "https://localhost:8080/"
        },
        "id": "N_g28wVEltD5",
        "outputId": "a031a2d5-bdac-4434-b9a1-3e57932bae5d"
      },
      "source": [
        "feature = data['data']\n",
        "\n",
        "label = data['target']\n",
        "\n",
        "data['target_names']\n",
        "\n",
        "feature.shape\n",
        "\n",
        "label.shape\n",
        "\n",
        "scale = StandardScaler()\n",
        "\n",
        "feature = scale.fit_transform(feature)\n",
        "\n",
        "j = 0\n",
        "for i in data['feature_names']:\n",
        "  print(i,\":\",feature[0][j])\n",
        "  j+=1\n",
        "\n",
        "print(feature[568])\n"
      ],
      "execution_count": null,
      "outputs": [
        {
          "output_type": "stream",
          "name": "stdout",
          "text": [
            "mean radius : 1.0970639814699807\n",
            "mean texture : -2.0733350146975935\n",
            "mean perimeter : 1.2699336881399383\n",
            "mean area : 0.9843749048031144\n",
            "mean smoothness : 1.568466329243428\n",
            "mean compactness : 3.2835146709868264\n",
            "mean concavity : 2.652873983743168\n",
            "mean concave points : 2.532475216403245\n",
            "mean symmetry : 2.2175150059646405\n",
            "mean fractal dimension : 2.255746885296269\n",
            "radius error : 2.4897339267376193\n",
            "texture error : -0.5652650590684639\n",
            "perimeter error : 2.833030865855184\n",
            "area error : 2.4875775569611043\n",
            "smoothness error : -0.21400164666895383\n",
            "compactness error : 1.3168615683959484\n",
            "concavity error : 0.72402615808036\n",
            "concave points error : 0.6608199414286064\n",
            "symmetry error : 1.1487566671861758\n",
            "fractal dimension error : 0.9070830809973359\n",
            "worst radius : 1.8866896251792757\n",
            "worst texture : -1.3592934737640827\n",
            "worst perimeter : 2.3036006236225606\n",
            "worst area : 2.0012374893299207\n",
            "worst smoothness : 1.3076862710715387\n",
            "worst compactness : 2.616665023512603\n",
            "worst concavity : 2.1095263465722556\n",
            "worst concave points : 2.296076127561788\n",
            "worst symmetry : 2.750622244124955\n",
            "worst fractal dimension : 1.9370146123781782\n",
            "[-1.80840125  1.22179204 -1.81438851 -1.34778924 -3.11208479 -1.15075248\n",
            " -1.11487284 -1.26181958 -0.8200699  -0.56103238 -0.07027874  0.3830925\n",
            " -0.15744905 -0.46615196  0.04934236 -1.16351619 -1.05750068 -1.91344745\n",
            "  0.75282996 -0.382754   -1.41089258  0.76418957 -1.43273495 -1.07581292\n",
            " -1.85901852 -1.2075525  -1.30583065 -1.74506282 -0.04813821 -0.75120669]\n"
          ]
        }
      ]
    },
    {
      "cell_type": "code",
      "metadata": {
        "colab": {
          "base_uri": "https://localhost:8080/",
          "height": 496
        },
        "id": "EKv7maUDmKJr",
        "outputId": "9dea9f28-675e-47f6-86ba-dc0dd36ca70e"
      },
      "source": [
        "print(data['target_names'][label[568]],label[568])\n",
        "\n",
        "df_frt = pd.DataFrame(feature , columns = data['feature_names'])\n",
        "df_lbl = pd.DataFrame(label , columns = ['label'])\n",
        "df = pd.concat([df_frt, df_lbl], axis=1)\n",
        "df = df.sample(frac = 1)\n",
        "\n",
        "feature = df.values[ : , : 30]\n",
        "label = df.values[ : ,30: ]\n",
        "\n",
        "df\n"
      ],
      "execution_count": null,
      "outputs": [
        {
          "output_type": "stream",
          "name": "stdout",
          "text": [
            "benign 1\n"
          ]
        },
        {
          "output_type": "execute_result",
          "data": {
            "text/html": [
              "<div>\n",
              "<style scoped>\n",
              "    .dataframe tbody tr th:only-of-type {\n",
              "        vertical-align: middle;\n",
              "    }\n",
              "\n",
              "    .dataframe tbody tr th {\n",
              "        vertical-align: top;\n",
              "    }\n",
              "\n",
              "    .dataframe thead th {\n",
              "        text-align: right;\n",
              "    }\n",
              "</style>\n",
              "<table border=\"1\" class=\"dataframe\">\n",
              "  <thead>\n",
              "    <tr style=\"text-align: right;\">\n",
              "      <th></th>\n",
              "      <th>mean radius</th>\n",
              "      <th>mean texture</th>\n",
              "      <th>mean perimeter</th>\n",
              "      <th>mean area</th>\n",
              "      <th>mean smoothness</th>\n",
              "      <th>mean compactness</th>\n",
              "      <th>mean concavity</th>\n",
              "      <th>mean concave points</th>\n",
              "      <th>mean symmetry</th>\n",
              "      <th>mean fractal dimension</th>\n",
              "      <th>radius error</th>\n",
              "      <th>texture error</th>\n",
              "      <th>perimeter error</th>\n",
              "      <th>area error</th>\n",
              "      <th>smoothness error</th>\n",
              "      <th>compactness error</th>\n",
              "      <th>concavity error</th>\n",
              "      <th>concave points error</th>\n",
              "      <th>symmetry error</th>\n",
              "      <th>fractal dimension error</th>\n",
              "      <th>worst radius</th>\n",
              "      <th>worst texture</th>\n",
              "      <th>worst perimeter</th>\n",
              "      <th>worst area</th>\n",
              "      <th>worst smoothness</th>\n",
              "      <th>worst compactness</th>\n",
              "      <th>worst concavity</th>\n",
              "      <th>worst concave points</th>\n",
              "      <th>worst symmetry</th>\n",
              "      <th>worst fractal dimension</th>\n",
              "      <th>label</th>\n",
              "    </tr>\n",
              "  </thead>\n",
              "  <tbody>\n",
              "    <tr>\n",
              "      <th>21</th>\n",
              "      <td>-1.313080</td>\n",
              "      <td>-1.593959</td>\n",
              "      <td>-1.302806</td>\n",
              "      <td>-1.083572</td>\n",
              "      <td>0.429819</td>\n",
              "      <td>-0.747086</td>\n",
              "      <td>-0.743748</td>\n",
              "      <td>-0.726337</td>\n",
              "      <td>0.012345</td>\n",
              "      <td>0.886341</td>\n",
              "      <td>-0.461517</td>\n",
              "      <td>-0.435539</td>\n",
              "      <td>-0.473774</td>\n",
              "      <td>-0.542058</td>\n",
              "      <td>0.855042</td>\n",
              "      <td>-0.623623</td>\n",
              "      <td>-0.399334</td>\n",
              "      <td>0.391552</td>\n",
              "      <td>-0.032970</td>\n",
              "      <td>-0.312777</td>\n",
              "      <td>-1.250611</td>\n",
              "      <td>-1.631243</td>\n",
              "      <td>-1.254913</td>\n",
              "      <td>-0.994422</td>\n",
              "      <td>0.001377</td>\n",
              "      <td>-0.887193</td>\n",
              "      <td>-0.880434</td>\n",
              "      <td>-0.796903</td>\n",
              "      <td>-0.729224</td>\n",
              "      <td>-0.344455</td>\n",
              "      <td>1</td>\n",
              "    </tr>\n",
              "    <tr>\n",
              "      <th>218</th>\n",
              "      <td>1.611130</td>\n",
              "      <td>0.528326</td>\n",
              "      <td>1.554146</td>\n",
              "      <td>1.635674</td>\n",
              "      <td>-0.180069</td>\n",
              "      <td>0.497647</td>\n",
              "      <td>0.482119</td>\n",
              "      <td>0.979935</td>\n",
              "      <td>1.030958</td>\n",
              "      <td>-0.990566</td>\n",
              "      <td>1.985527</td>\n",
              "      <td>-0.055979</td>\n",
              "      <td>1.792477</td>\n",
              "      <td>1.849528</td>\n",
              "      <td>-0.078996</td>\n",
              "      <td>0.347178</td>\n",
              "      <td>0.085090</td>\n",
              "      <td>0.863582</td>\n",
              "      <td>-0.190372</td>\n",
              "      <td>0.094599</td>\n",
              "      <td>1.959169</td>\n",
              "      <td>0.482470</td>\n",
              "      <td>1.877663</td>\n",
              "      <td>1.983658</td>\n",
              "      <td>0.128501</td>\n",
              "      <td>0.440431</td>\n",
              "      <td>0.429434</td>\n",
              "      <td>1.026178</td>\n",
              "      <td>0.273800</td>\n",
              "      <td>-0.077350</td>\n",
              "      <td>0</td>\n",
              "    </tr>\n",
              "    <tr>\n",
              "      <th>116</th>\n",
              "      <td>-1.470424</td>\n",
              "      <td>-0.821373</td>\n",
              "      <td>-1.368711</td>\n",
              "      <td>-1.165198</td>\n",
              "      <td>-0.123848</td>\n",
              "      <td>0.378253</td>\n",
              "      <td>0.048094</td>\n",
              "      <td>-0.666494</td>\n",
              "      <td>-1.849636</td>\n",
              "      <td>1.252083</td>\n",
              "      <td>-0.331946</td>\n",
              "      <td>-0.431729</td>\n",
              "      <td>0.204913</td>\n",
              "      <td>-0.514776</td>\n",
              "      <td>3.769827</td>\n",
              "      <td>2.354171</td>\n",
              "      <td>2.013834</td>\n",
              "      <td>1.830352</td>\n",
              "      <td>0.399281</td>\n",
              "      <td>0.683158</td>\n",
              "      <td>-1.419590</td>\n",
              "      <td>-1.401633</td>\n",
              "      <td>-1.308230</td>\n",
              "      <td>-1.073352</td>\n",
              "      <td>-0.634244</td>\n",
              "      <td>-0.422174</td>\n",
              "      <td>-0.565093</td>\n",
              "      <td>-1.159448</td>\n",
              "      <td>-2.020213</td>\n",
              "      <td>-0.372717</td>\n",
              "      <td>1</td>\n",
              "    </tr>\n",
              "    <tr>\n",
              "      <th>250</th>\n",
              "      <td>1.934906</td>\n",
              "      <td>0.993739</td>\n",
              "      <td>1.933096</td>\n",
              "      <td>2.016784</td>\n",
              "      <td>0.308838</td>\n",
              "      <td>1.066192</td>\n",
              "      <td>2.290035</td>\n",
              "      <td>2.117192</td>\n",
              "      <td>1.436213</td>\n",
              "      <td>-0.541186</td>\n",
              "      <td>2.161296</td>\n",
              "      <td>-0.718577</td>\n",
              "      <td>1.735548</td>\n",
              "      <td>2.146551</td>\n",
              "      <td>-0.586017</td>\n",
              "      <td>0.760202</td>\n",
              "      <td>2.098385</td>\n",
              "      <td>1.110141</td>\n",
              "      <td>0.419864</td>\n",
              "      <td>0.456586</td>\n",
              "      <td>1.928106</td>\n",
              "      <td>0.215406</td>\n",
              "      <td>1.728734</td>\n",
              "      <td>1.985416</td>\n",
              "      <td>-0.493969</td>\n",
              "      <td>0.400354</td>\n",
              "      <td>2.048118</td>\n",
              "      <td>1.460136</td>\n",
              "      <td>0.364396</td>\n",
              "      <td>-0.302339</td>\n",
              "      <td>0</td>\n",
              "    </tr>\n",
              "    <tr>\n",
              "      <th>430</th>\n",
              "      <td>0.219460</td>\n",
              "      <td>0.754052</td>\n",
              "      <td>0.417297</td>\n",
              "      <td>0.085638</td>\n",
              "      <td>0.221305</td>\n",
              "      <td>2.239288</td>\n",
              "      <td>2.316401</td>\n",
              "      <td>1.243034</td>\n",
              "      <td>0.837458</td>\n",
              "      <td>0.876418</td>\n",
              "      <td>-0.549221</td>\n",
              "      <td>-0.620421</td>\n",
              "      <td>0.296989</td>\n",
              "      <td>-0.355263</td>\n",
              "      <td>-0.025327</td>\n",
              "      <td>2.048456</td>\n",
              "      <td>1.570525</td>\n",
              "      <td>1.710316</td>\n",
              "      <td>-0.672264</td>\n",
              "      <td>0.752378</td>\n",
              "      <td>0.016734</td>\n",
              "      <td>0.308227</td>\n",
              "      <td>0.540279</td>\n",
              "      <td>-0.084174</td>\n",
              "      <td>0.417818</td>\n",
              "      <td>2.892750</td>\n",
              "      <td>3.021056</td>\n",
              "      <td>2.023520</td>\n",
              "      <td>-0.056227</td>\n",
              "      <td>1.748601</td>\n",
              "      <td>0</td>\n",
              "    </tr>\n",
              "    <tr>\n",
              "      <th>...</th>\n",
              "      <td>...</td>\n",
              "      <td>...</td>\n",
              "      <td>...</td>\n",
              "      <td>...</td>\n",
              "      <td>...</td>\n",
              "      <td>...</td>\n",
              "      <td>...</td>\n",
              "      <td>...</td>\n",
              "      <td>...</td>\n",
              "      <td>...</td>\n",
              "      <td>...</td>\n",
              "      <td>...</td>\n",
              "      <td>...</td>\n",
              "      <td>...</td>\n",
              "      <td>...</td>\n",
              "      <td>...</td>\n",
              "      <td>...</td>\n",
              "      <td>...</td>\n",
              "      <td>...</td>\n",
              "      <td>...</td>\n",
              "      <td>...</td>\n",
              "      <td>...</td>\n",
              "      <td>...</td>\n",
              "      <td>...</td>\n",
              "      <td>...</td>\n",
              "      <td>...</td>\n",
              "      <td>...</td>\n",
              "      <td>...</td>\n",
              "      <td>...</td>\n",
              "      <td>...</td>\n",
              "      <td>...</td>\n",
              "    </tr>\n",
              "    <tr>\n",
              "      <th>10</th>\n",
              "      <td>0.537556</td>\n",
              "      <td>0.919273</td>\n",
              "      <td>0.442011</td>\n",
              "      <td>0.406453</td>\n",
              "      <td>-1.017686</td>\n",
              "      <td>-0.713542</td>\n",
              "      <td>-0.700684</td>\n",
              "      <td>-0.404686</td>\n",
              "      <td>-1.035476</td>\n",
              "      <td>-0.826124</td>\n",
              "      <td>-0.092656</td>\n",
              "      <td>-0.054164</td>\n",
              "      <td>-0.198042</td>\n",
              "      <td>0.003805</td>\n",
              "      <td>-1.004034</td>\n",
              "      <td>-0.905921</td>\n",
              "      <td>-0.692442</td>\n",
              "      <td>-0.682114</td>\n",
              "      <td>-0.719485</td>\n",
              "      <td>-0.284787</td>\n",
              "      <td>0.604849</td>\n",
              "      <td>1.335771</td>\n",
              "      <td>0.492622</td>\n",
              "      <td>0.473611</td>\n",
              "      <td>-0.625477</td>\n",
              "      <td>-0.630828</td>\n",
              "      <td>-0.605872</td>\n",
              "      <td>-0.226210</td>\n",
              "      <td>0.076431</td>\n",
              "      <td>0.031819</td>\n",
              "      <td>0</td>\n",
              "    </tr>\n",
              "    <tr>\n",
              "      <th>190</th>\n",
              "      <td>0.026330</td>\n",
              "      <td>0.891349</td>\n",
              "      <td>0.098896</td>\n",
              "      <td>-0.127954</td>\n",
              "      <td>0.792763</td>\n",
              "      <td>2.595576</td>\n",
              "      <td>1.372267</td>\n",
              "      <td>0.445226</td>\n",
              "      <td>2.089732</td>\n",
              "      <td>1.789355</td>\n",
              "      <td>-0.430117</td>\n",
              "      <td>1.620475</td>\n",
              "      <td>-0.373282</td>\n",
              "      <td>-0.189590</td>\n",
              "      <td>0.309686</td>\n",
              "      <td>6.143482</td>\n",
              "      <td>2.808608</td>\n",
              "      <td>0.788966</td>\n",
              "      <td>3.703513</td>\n",
              "      <td>2.997678</td>\n",
              "      <td>-0.109586</td>\n",
              "      <td>1.873156</td>\n",
              "      <td>-0.025652</td>\n",
              "      <td>-0.207756</td>\n",
              "      <td>0.917547</td>\n",
              "      <td>4.315794</td>\n",
              "      <td>2.766307</td>\n",
              "      <td>0.953090</td>\n",
              "      <td>3.664668</td>\n",
              "      <td>3.361201</td>\n",
              "      <td>0</td>\n",
              "    </tr>\n",
              "    <tr>\n",
              "      <th>487</th>\n",
              "      <td>1.508885</td>\n",
              "      <td>-0.109290</td>\n",
              "      <td>1.488242</td>\n",
              "      <td>1.456496</td>\n",
              "      <td>0.892395</td>\n",
              "      <td>0.766758</td>\n",
              "      <td>1.717529</td>\n",
              "      <td>1.817982</td>\n",
              "      <td>0.041553</td>\n",
              "      <td>-0.233566</td>\n",
              "      <td>0.580101</td>\n",
              "      <td>0.346806</td>\n",
              "      <td>0.378669</td>\n",
              "      <td>0.602911</td>\n",
              "      <td>-0.584350</td>\n",
              "      <td>0.159389</td>\n",
              "      <td>0.353662</td>\n",
              "      <td>-0.005862</td>\n",
              "      <td>-0.408313</td>\n",
              "      <td>-0.220862</td>\n",
              "      <td>1.592632</td>\n",
              "      <td>0.767446</td>\n",
              "      <td>1.389175</td>\n",
              "      <td>1.510780</td>\n",
              "      <td>0.834259</td>\n",
              "      <td>0.752140</td>\n",
              "      <td>1.541979</td>\n",
              "      <td>1.391616</td>\n",
              "      <td>0.590885</td>\n",
              "      <td>0.340485</td>\n",
              "      <td>0</td>\n",
              "    </tr>\n",
              "    <tr>\n",
              "      <th>417</th>\n",
              "      <td>0.389869</td>\n",
              "      <td>0.416627</td>\n",
              "      <td>0.450249</td>\n",
              "      <td>0.421527</td>\n",
              "      <td>1.113008</td>\n",
              "      <td>0.999861</td>\n",
              "      <td>0.795994</td>\n",
              "      <td>0.925768</td>\n",
              "      <td>0.998100</td>\n",
              "      <td>0.828220</td>\n",
              "      <td>3.482267</td>\n",
              "      <td>-0.006991</td>\n",
              "      <td>3.246381</td>\n",
              "      <td>2.995817</td>\n",
              "      <td>0.385689</td>\n",
              "      <td>0.749583</td>\n",
              "      <td>0.432244</td>\n",
              "      <td>1.556217</td>\n",
              "      <td>-0.043867</td>\n",
              "      <td>0.764104</td>\n",
              "      <td>1.429037</td>\n",
              "      <td>0.321254</td>\n",
              "      <td>1.484490</td>\n",
              "      <td>1.524843</td>\n",
              "      <td>0.847409</td>\n",
              "      <td>0.928350</td>\n",
              "      <td>0.714407</td>\n",
              "      <td>1.504293</td>\n",
              "      <td>0.165409</td>\n",
              "      <td>1.155652</td>\n",
              "      <td>0</td>\n",
              "    </tr>\n",
              "    <tr>\n",
              "      <th>517</th>\n",
              "      <td>1.636691</td>\n",
              "      <td>0.225807</td>\n",
              "      <td>1.587098</td>\n",
              "      <td>1.590169</td>\n",
              "      <td>0.522334</td>\n",
              "      <td>0.505228</td>\n",
              "      <td>0.656634</td>\n",
              "      <td>1.170811</td>\n",
              "      <td>-0.035117</td>\n",
              "      <td>-0.130081</td>\n",
              "      <td>0.370767</td>\n",
              "      <td>-0.622598</td>\n",
              "      <td>0.390055</td>\n",
              "      <td>0.426017</td>\n",
              "      <td>-0.650686</td>\n",
              "      <td>-0.136825</td>\n",
              "      <td>-0.045548</td>\n",
              "      <td>-0.002618</td>\n",
              "      <td>-1.207431</td>\n",
              "      <td>-0.152777</td>\n",
              "      <td>1.545003</td>\n",
              "      <td>-0.072828</td>\n",
              "      <td>1.585762</td>\n",
              "      <td>1.345536</td>\n",
              "      <td>0.409050</td>\n",
              "      <td>0.487505</td>\n",
              "      <td>0.701933</td>\n",
              "      <td>0.710987</td>\n",
              "      <td>-0.569064</td>\n",
              "      <td>0.410863</td>\n",
              "      <td>0</td>\n",
              "    </tr>\n",
              "  </tbody>\n",
              "</table>\n",
              "<p>569 rows × 31 columns</p>\n",
              "</div>"
            ],
            "text/plain": [
              "     mean radius  mean texture  ...  worst fractal dimension  label\n",
              "21     -1.313080     -1.593959  ...                -0.344455      1\n",
              "218     1.611130      0.528326  ...                -0.077350      0\n",
              "116    -1.470424     -0.821373  ...                -0.372717      1\n",
              "250     1.934906      0.993739  ...                -0.302339      0\n",
              "430     0.219460      0.754052  ...                 1.748601      0\n",
              "..           ...           ...  ...                      ...    ...\n",
              "10      0.537556      0.919273  ...                 0.031819      0\n",
              "190     0.026330      0.891349  ...                 3.361201      0\n",
              "487     1.508885     -0.109290  ...                 0.340485      0\n",
              "417     0.389869      0.416627  ...                 1.155652      0\n",
              "517     1.636691      0.225807  ...                 0.410863      0\n",
              "\n",
              "[569 rows x 31 columns]"
            ]
          },
          "metadata": {},
          "execution_count": 11
        }
      ]
    },
    {
      "cell_type": "code",
      "metadata": {
        "colab": {
          "base_uri": "https://localhost:8080/",
          "height": 478
        },
        "id": "_3TRWmpdudcc",
        "outputId": "434d3509-e357-4a5b-957f-643378294757"
      },
      "source": [
        "df"
      ],
      "execution_count": null,
      "outputs": [
        {
          "output_type": "execute_result",
          "data": {
            "text/html": [
              "<div>\n",
              "<style scoped>\n",
              "    .dataframe tbody tr th:only-of-type {\n",
              "        vertical-align: middle;\n",
              "    }\n",
              "\n",
              "    .dataframe tbody tr th {\n",
              "        vertical-align: top;\n",
              "    }\n",
              "\n",
              "    .dataframe thead th {\n",
              "        text-align: right;\n",
              "    }\n",
              "</style>\n",
              "<table border=\"1\" class=\"dataframe\">\n",
              "  <thead>\n",
              "    <tr style=\"text-align: right;\">\n",
              "      <th></th>\n",
              "      <th>mean radius</th>\n",
              "      <th>mean texture</th>\n",
              "      <th>mean perimeter</th>\n",
              "      <th>mean area</th>\n",
              "      <th>mean smoothness</th>\n",
              "      <th>mean compactness</th>\n",
              "      <th>mean concavity</th>\n",
              "      <th>mean concave points</th>\n",
              "      <th>mean symmetry</th>\n",
              "      <th>mean fractal dimension</th>\n",
              "      <th>radius error</th>\n",
              "      <th>texture error</th>\n",
              "      <th>perimeter error</th>\n",
              "      <th>area error</th>\n",
              "      <th>smoothness error</th>\n",
              "      <th>compactness error</th>\n",
              "      <th>concavity error</th>\n",
              "      <th>concave points error</th>\n",
              "      <th>symmetry error</th>\n",
              "      <th>fractal dimension error</th>\n",
              "      <th>worst radius</th>\n",
              "      <th>worst texture</th>\n",
              "      <th>worst perimeter</th>\n",
              "      <th>worst area</th>\n",
              "      <th>worst smoothness</th>\n",
              "      <th>worst compactness</th>\n",
              "      <th>worst concavity</th>\n",
              "      <th>worst concave points</th>\n",
              "      <th>worst symmetry</th>\n",
              "      <th>worst fractal dimension</th>\n",
              "      <th>label</th>\n",
              "    </tr>\n",
              "  </thead>\n",
              "  <tbody>\n",
              "    <tr>\n",
              "      <th>21</th>\n",
              "      <td>-1.313080</td>\n",
              "      <td>-1.593959</td>\n",
              "      <td>-1.302806</td>\n",
              "      <td>-1.083572</td>\n",
              "      <td>0.429819</td>\n",
              "      <td>-0.747086</td>\n",
              "      <td>-0.743748</td>\n",
              "      <td>-0.726337</td>\n",
              "      <td>0.012345</td>\n",
              "      <td>0.886341</td>\n",
              "      <td>-0.461517</td>\n",
              "      <td>-0.435539</td>\n",
              "      <td>-0.473774</td>\n",
              "      <td>-0.542058</td>\n",
              "      <td>0.855042</td>\n",
              "      <td>-0.623623</td>\n",
              "      <td>-0.399334</td>\n",
              "      <td>0.391552</td>\n",
              "      <td>-0.032970</td>\n",
              "      <td>-0.312777</td>\n",
              "      <td>-1.250611</td>\n",
              "      <td>-1.631243</td>\n",
              "      <td>-1.254913</td>\n",
              "      <td>-0.994422</td>\n",
              "      <td>0.001377</td>\n",
              "      <td>-0.887193</td>\n",
              "      <td>-0.880434</td>\n",
              "      <td>-0.796903</td>\n",
              "      <td>-0.729224</td>\n",
              "      <td>-0.344455</td>\n",
              "      <td>1</td>\n",
              "    </tr>\n",
              "    <tr>\n",
              "      <th>218</th>\n",
              "      <td>1.611130</td>\n",
              "      <td>0.528326</td>\n",
              "      <td>1.554146</td>\n",
              "      <td>1.635674</td>\n",
              "      <td>-0.180069</td>\n",
              "      <td>0.497647</td>\n",
              "      <td>0.482119</td>\n",
              "      <td>0.979935</td>\n",
              "      <td>1.030958</td>\n",
              "      <td>-0.990566</td>\n",
              "      <td>1.985527</td>\n",
              "      <td>-0.055979</td>\n",
              "      <td>1.792477</td>\n",
              "      <td>1.849528</td>\n",
              "      <td>-0.078996</td>\n",
              "      <td>0.347178</td>\n",
              "      <td>0.085090</td>\n",
              "      <td>0.863582</td>\n",
              "      <td>-0.190372</td>\n",
              "      <td>0.094599</td>\n",
              "      <td>1.959169</td>\n",
              "      <td>0.482470</td>\n",
              "      <td>1.877663</td>\n",
              "      <td>1.983658</td>\n",
              "      <td>0.128501</td>\n",
              "      <td>0.440431</td>\n",
              "      <td>0.429434</td>\n",
              "      <td>1.026178</td>\n",
              "      <td>0.273800</td>\n",
              "      <td>-0.077350</td>\n",
              "      <td>0</td>\n",
              "    </tr>\n",
              "    <tr>\n",
              "      <th>116</th>\n",
              "      <td>-1.470424</td>\n",
              "      <td>-0.821373</td>\n",
              "      <td>-1.368711</td>\n",
              "      <td>-1.165198</td>\n",
              "      <td>-0.123848</td>\n",
              "      <td>0.378253</td>\n",
              "      <td>0.048094</td>\n",
              "      <td>-0.666494</td>\n",
              "      <td>-1.849636</td>\n",
              "      <td>1.252083</td>\n",
              "      <td>-0.331946</td>\n",
              "      <td>-0.431729</td>\n",
              "      <td>0.204913</td>\n",
              "      <td>-0.514776</td>\n",
              "      <td>3.769827</td>\n",
              "      <td>2.354171</td>\n",
              "      <td>2.013834</td>\n",
              "      <td>1.830352</td>\n",
              "      <td>0.399281</td>\n",
              "      <td>0.683158</td>\n",
              "      <td>-1.419590</td>\n",
              "      <td>-1.401633</td>\n",
              "      <td>-1.308230</td>\n",
              "      <td>-1.073352</td>\n",
              "      <td>-0.634244</td>\n",
              "      <td>-0.422174</td>\n",
              "      <td>-0.565093</td>\n",
              "      <td>-1.159448</td>\n",
              "      <td>-2.020213</td>\n",
              "      <td>-0.372717</td>\n",
              "      <td>1</td>\n",
              "    </tr>\n",
              "    <tr>\n",
              "      <th>250</th>\n",
              "      <td>1.934906</td>\n",
              "      <td>0.993739</td>\n",
              "      <td>1.933096</td>\n",
              "      <td>2.016784</td>\n",
              "      <td>0.308838</td>\n",
              "      <td>1.066192</td>\n",
              "      <td>2.290035</td>\n",
              "      <td>2.117192</td>\n",
              "      <td>1.436213</td>\n",
              "      <td>-0.541186</td>\n",
              "      <td>2.161296</td>\n",
              "      <td>-0.718577</td>\n",
              "      <td>1.735548</td>\n",
              "      <td>2.146551</td>\n",
              "      <td>-0.586017</td>\n",
              "      <td>0.760202</td>\n",
              "      <td>2.098385</td>\n",
              "      <td>1.110141</td>\n",
              "      <td>0.419864</td>\n",
              "      <td>0.456586</td>\n",
              "      <td>1.928106</td>\n",
              "      <td>0.215406</td>\n",
              "      <td>1.728734</td>\n",
              "      <td>1.985416</td>\n",
              "      <td>-0.493969</td>\n",
              "      <td>0.400354</td>\n",
              "      <td>2.048118</td>\n",
              "      <td>1.460136</td>\n",
              "      <td>0.364396</td>\n",
              "      <td>-0.302339</td>\n",
              "      <td>0</td>\n",
              "    </tr>\n",
              "    <tr>\n",
              "      <th>430</th>\n",
              "      <td>0.219460</td>\n",
              "      <td>0.754052</td>\n",
              "      <td>0.417297</td>\n",
              "      <td>0.085638</td>\n",
              "      <td>0.221305</td>\n",
              "      <td>2.239288</td>\n",
              "      <td>2.316401</td>\n",
              "      <td>1.243034</td>\n",
              "      <td>0.837458</td>\n",
              "      <td>0.876418</td>\n",
              "      <td>-0.549221</td>\n",
              "      <td>-0.620421</td>\n",
              "      <td>0.296989</td>\n",
              "      <td>-0.355263</td>\n",
              "      <td>-0.025327</td>\n",
              "      <td>2.048456</td>\n",
              "      <td>1.570525</td>\n",
              "      <td>1.710316</td>\n",
              "      <td>-0.672264</td>\n",
              "      <td>0.752378</td>\n",
              "      <td>0.016734</td>\n",
              "      <td>0.308227</td>\n",
              "      <td>0.540279</td>\n",
              "      <td>-0.084174</td>\n",
              "      <td>0.417818</td>\n",
              "      <td>2.892750</td>\n",
              "      <td>3.021056</td>\n",
              "      <td>2.023520</td>\n",
              "      <td>-0.056227</td>\n",
              "      <td>1.748601</td>\n",
              "      <td>0</td>\n",
              "    </tr>\n",
              "    <tr>\n",
              "      <th>...</th>\n",
              "      <td>...</td>\n",
              "      <td>...</td>\n",
              "      <td>...</td>\n",
              "      <td>...</td>\n",
              "      <td>...</td>\n",
              "      <td>...</td>\n",
              "      <td>...</td>\n",
              "      <td>...</td>\n",
              "      <td>...</td>\n",
              "      <td>...</td>\n",
              "      <td>...</td>\n",
              "      <td>...</td>\n",
              "      <td>...</td>\n",
              "      <td>...</td>\n",
              "      <td>...</td>\n",
              "      <td>...</td>\n",
              "      <td>...</td>\n",
              "      <td>...</td>\n",
              "      <td>...</td>\n",
              "      <td>...</td>\n",
              "      <td>...</td>\n",
              "      <td>...</td>\n",
              "      <td>...</td>\n",
              "      <td>...</td>\n",
              "      <td>...</td>\n",
              "      <td>...</td>\n",
              "      <td>...</td>\n",
              "      <td>...</td>\n",
              "      <td>...</td>\n",
              "      <td>...</td>\n",
              "      <td>...</td>\n",
              "    </tr>\n",
              "    <tr>\n",
              "      <th>10</th>\n",
              "      <td>0.537556</td>\n",
              "      <td>0.919273</td>\n",
              "      <td>0.442011</td>\n",
              "      <td>0.406453</td>\n",
              "      <td>-1.017686</td>\n",
              "      <td>-0.713542</td>\n",
              "      <td>-0.700684</td>\n",
              "      <td>-0.404686</td>\n",
              "      <td>-1.035476</td>\n",
              "      <td>-0.826124</td>\n",
              "      <td>-0.092656</td>\n",
              "      <td>-0.054164</td>\n",
              "      <td>-0.198042</td>\n",
              "      <td>0.003805</td>\n",
              "      <td>-1.004034</td>\n",
              "      <td>-0.905921</td>\n",
              "      <td>-0.692442</td>\n",
              "      <td>-0.682114</td>\n",
              "      <td>-0.719485</td>\n",
              "      <td>-0.284787</td>\n",
              "      <td>0.604849</td>\n",
              "      <td>1.335771</td>\n",
              "      <td>0.492622</td>\n",
              "      <td>0.473611</td>\n",
              "      <td>-0.625477</td>\n",
              "      <td>-0.630828</td>\n",
              "      <td>-0.605872</td>\n",
              "      <td>-0.226210</td>\n",
              "      <td>0.076431</td>\n",
              "      <td>0.031819</td>\n",
              "      <td>0</td>\n",
              "    </tr>\n",
              "    <tr>\n",
              "      <th>190</th>\n",
              "      <td>0.026330</td>\n",
              "      <td>0.891349</td>\n",
              "      <td>0.098896</td>\n",
              "      <td>-0.127954</td>\n",
              "      <td>0.792763</td>\n",
              "      <td>2.595576</td>\n",
              "      <td>1.372267</td>\n",
              "      <td>0.445226</td>\n",
              "      <td>2.089732</td>\n",
              "      <td>1.789355</td>\n",
              "      <td>-0.430117</td>\n",
              "      <td>1.620475</td>\n",
              "      <td>-0.373282</td>\n",
              "      <td>-0.189590</td>\n",
              "      <td>0.309686</td>\n",
              "      <td>6.143482</td>\n",
              "      <td>2.808608</td>\n",
              "      <td>0.788966</td>\n",
              "      <td>3.703513</td>\n",
              "      <td>2.997678</td>\n",
              "      <td>-0.109586</td>\n",
              "      <td>1.873156</td>\n",
              "      <td>-0.025652</td>\n",
              "      <td>-0.207756</td>\n",
              "      <td>0.917547</td>\n",
              "      <td>4.315794</td>\n",
              "      <td>2.766307</td>\n",
              "      <td>0.953090</td>\n",
              "      <td>3.664668</td>\n",
              "      <td>3.361201</td>\n",
              "      <td>0</td>\n",
              "    </tr>\n",
              "    <tr>\n",
              "      <th>487</th>\n",
              "      <td>1.508885</td>\n",
              "      <td>-0.109290</td>\n",
              "      <td>1.488242</td>\n",
              "      <td>1.456496</td>\n",
              "      <td>0.892395</td>\n",
              "      <td>0.766758</td>\n",
              "      <td>1.717529</td>\n",
              "      <td>1.817982</td>\n",
              "      <td>0.041553</td>\n",
              "      <td>-0.233566</td>\n",
              "      <td>0.580101</td>\n",
              "      <td>0.346806</td>\n",
              "      <td>0.378669</td>\n",
              "      <td>0.602911</td>\n",
              "      <td>-0.584350</td>\n",
              "      <td>0.159389</td>\n",
              "      <td>0.353662</td>\n",
              "      <td>-0.005862</td>\n",
              "      <td>-0.408313</td>\n",
              "      <td>-0.220862</td>\n",
              "      <td>1.592632</td>\n",
              "      <td>0.767446</td>\n",
              "      <td>1.389175</td>\n",
              "      <td>1.510780</td>\n",
              "      <td>0.834259</td>\n",
              "      <td>0.752140</td>\n",
              "      <td>1.541979</td>\n",
              "      <td>1.391616</td>\n",
              "      <td>0.590885</td>\n",
              "      <td>0.340485</td>\n",
              "      <td>0</td>\n",
              "    </tr>\n",
              "    <tr>\n",
              "      <th>417</th>\n",
              "      <td>0.389869</td>\n",
              "      <td>0.416627</td>\n",
              "      <td>0.450249</td>\n",
              "      <td>0.421527</td>\n",
              "      <td>1.113008</td>\n",
              "      <td>0.999861</td>\n",
              "      <td>0.795994</td>\n",
              "      <td>0.925768</td>\n",
              "      <td>0.998100</td>\n",
              "      <td>0.828220</td>\n",
              "      <td>3.482267</td>\n",
              "      <td>-0.006991</td>\n",
              "      <td>3.246381</td>\n",
              "      <td>2.995817</td>\n",
              "      <td>0.385689</td>\n",
              "      <td>0.749583</td>\n",
              "      <td>0.432244</td>\n",
              "      <td>1.556217</td>\n",
              "      <td>-0.043867</td>\n",
              "      <td>0.764104</td>\n",
              "      <td>1.429037</td>\n",
              "      <td>0.321254</td>\n",
              "      <td>1.484490</td>\n",
              "      <td>1.524843</td>\n",
              "      <td>0.847409</td>\n",
              "      <td>0.928350</td>\n",
              "      <td>0.714407</td>\n",
              "      <td>1.504293</td>\n",
              "      <td>0.165409</td>\n",
              "      <td>1.155652</td>\n",
              "      <td>0</td>\n",
              "    </tr>\n",
              "    <tr>\n",
              "      <th>517</th>\n",
              "      <td>1.636691</td>\n",
              "      <td>0.225807</td>\n",
              "      <td>1.587098</td>\n",
              "      <td>1.590169</td>\n",
              "      <td>0.522334</td>\n",
              "      <td>0.505228</td>\n",
              "      <td>0.656634</td>\n",
              "      <td>1.170811</td>\n",
              "      <td>-0.035117</td>\n",
              "      <td>-0.130081</td>\n",
              "      <td>0.370767</td>\n",
              "      <td>-0.622598</td>\n",
              "      <td>0.390055</td>\n",
              "      <td>0.426017</td>\n",
              "      <td>-0.650686</td>\n",
              "      <td>-0.136825</td>\n",
              "      <td>-0.045548</td>\n",
              "      <td>-0.002618</td>\n",
              "      <td>-1.207431</td>\n",
              "      <td>-0.152777</td>\n",
              "      <td>1.545003</td>\n",
              "      <td>-0.072828</td>\n",
              "      <td>1.585762</td>\n",
              "      <td>1.345536</td>\n",
              "      <td>0.409050</td>\n",
              "      <td>0.487505</td>\n",
              "      <td>0.701933</td>\n",
              "      <td>0.710987</td>\n",
              "      <td>-0.569064</td>\n",
              "      <td>0.410863</td>\n",
              "      <td>0</td>\n",
              "    </tr>\n",
              "  </tbody>\n",
              "</table>\n",
              "<p>569 rows × 31 columns</p>\n",
              "</div>"
            ],
            "text/plain": [
              "     mean radius  mean texture  ...  worst fractal dimension  label\n",
              "21     -1.313080     -1.593959  ...                -0.344455      1\n",
              "218     1.611130      0.528326  ...                -0.077350      0\n",
              "116    -1.470424     -0.821373  ...                -0.372717      1\n",
              "250     1.934906      0.993739  ...                -0.302339      0\n",
              "430     0.219460      0.754052  ...                 1.748601      0\n",
              "..           ...           ...  ...                      ...    ...\n",
              "10      0.537556      0.919273  ...                 0.031819      0\n",
              "190     0.026330      0.891349  ...                 3.361201      0\n",
              "487     1.508885     -0.109290  ...                 0.340485      0\n",
              "417     0.389869      0.416627  ...                 1.155652      0\n",
              "517     1.636691      0.225807  ...                 0.410863      0\n",
              "\n",
              "[569 rows x 31 columns]"
            ]
          },
          "metadata": {},
          "execution_count": 12
        }
      ]
    },
    {
      "cell_type": "code",
      "metadata": {
        "colab": {
          "base_uri": "https://localhost:8080/",
          "height": 424
        },
        "id": "K0WM5JALuJ-Q",
        "outputId": "df2cb857-2af1-4cc3-8a7e-e91f7f180d0b"
      },
      "source": [
        "df.describe()"
      ],
      "execution_count": null,
      "outputs": [
        {
          "output_type": "execute_result",
          "data": {
            "text/html": [
              "<div>\n",
              "<style scoped>\n",
              "    .dataframe tbody tr th:only-of-type {\n",
              "        vertical-align: middle;\n",
              "    }\n",
              "\n",
              "    .dataframe tbody tr th {\n",
              "        vertical-align: top;\n",
              "    }\n",
              "\n",
              "    .dataframe thead th {\n",
              "        text-align: right;\n",
              "    }\n",
              "</style>\n",
              "<table border=\"1\" class=\"dataframe\">\n",
              "  <thead>\n",
              "    <tr style=\"text-align: right;\">\n",
              "      <th></th>\n",
              "      <th>mean radius</th>\n",
              "      <th>mean texture</th>\n",
              "      <th>mean perimeter</th>\n",
              "      <th>mean area</th>\n",
              "      <th>mean smoothness</th>\n",
              "      <th>mean compactness</th>\n",
              "      <th>mean concavity</th>\n",
              "      <th>mean concave points</th>\n",
              "      <th>mean symmetry</th>\n",
              "      <th>mean fractal dimension</th>\n",
              "      <th>radius error</th>\n",
              "      <th>texture error</th>\n",
              "      <th>perimeter error</th>\n",
              "      <th>area error</th>\n",
              "      <th>smoothness error</th>\n",
              "      <th>compactness error</th>\n",
              "      <th>concavity error</th>\n",
              "      <th>concave points error</th>\n",
              "      <th>symmetry error</th>\n",
              "      <th>fractal dimension error</th>\n",
              "      <th>worst radius</th>\n",
              "      <th>worst texture</th>\n",
              "      <th>worst perimeter</th>\n",
              "      <th>worst area</th>\n",
              "      <th>worst smoothness</th>\n",
              "      <th>worst compactness</th>\n",
              "      <th>worst concavity</th>\n",
              "      <th>worst concave points</th>\n",
              "      <th>worst symmetry</th>\n",
              "      <th>worst fractal dimension</th>\n",
              "      <th>label</th>\n",
              "    </tr>\n",
              "  </thead>\n",
              "  <tbody>\n",
              "    <tr>\n",
              "      <th>count</th>\n",
              "      <td>5.690000e+02</td>\n",
              "      <td>5.690000e+02</td>\n",
              "      <td>5.690000e+02</td>\n",
              "      <td>5.690000e+02</td>\n",
              "      <td>5.690000e+02</td>\n",
              "      <td>5.690000e+02</td>\n",
              "      <td>5.690000e+02</td>\n",
              "      <td>5.690000e+02</td>\n",
              "      <td>5.690000e+02</td>\n",
              "      <td>5.690000e+02</td>\n",
              "      <td>5.690000e+02</td>\n",
              "      <td>5.690000e+02</td>\n",
              "      <td>5.690000e+02</td>\n",
              "      <td>5.690000e+02</td>\n",
              "      <td>5.690000e+02</td>\n",
              "      <td>5.690000e+02</td>\n",
              "      <td>5.690000e+02</td>\n",
              "      <td>5.690000e+02</td>\n",
              "      <td>5.690000e+02</td>\n",
              "      <td>5.690000e+02</td>\n",
              "      <td>5.690000e+02</td>\n",
              "      <td>5.690000e+02</td>\n",
              "      <td>5.690000e+02</td>\n",
              "      <td>5.690000e+02</td>\n",
              "      <td>5.690000e+02</td>\n",
              "      <td>5.690000e+02</td>\n",
              "      <td>5.690000e+02</td>\n",
              "      <td>5.690000e+02</td>\n",
              "      <td>5.690000e+02</td>\n",
              "      <td>5.690000e+02</td>\n",
              "      <td>569.000000</td>\n",
              "    </tr>\n",
              "    <tr>\n",
              "      <th>mean</th>\n",
              "      <td>-3.147648e-15</td>\n",
              "      <td>-6.575096e-15</td>\n",
              "      <td>-7.383276e-16</td>\n",
              "      <td>-9.037879e-16</td>\n",
              "      <td>6.094520e-15</td>\n",
              "      <td>-1.114125e-15</td>\n",
              "      <td>-3.110185e-16</td>\n",
              "      <td>1.022030e-15</td>\n",
              "      <td>-1.836331e-15</td>\n",
              "      <td>-1.495045e-15</td>\n",
              "      <td>-9.841766e-16</td>\n",
              "      <td>-9.092512e-16</td>\n",
              "      <td>1.896355e-15</td>\n",
              "      <td>-7.401812e-16</td>\n",
              "      <td>-7.264254e-16</td>\n",
              "      <td>-3.811636e-16</td>\n",
              "      <td>8.072409e-16</td>\n",
              "      <td>-3.047908e-16</td>\n",
              "      <td>-3.024333e-16</td>\n",
              "      <td>-3.076528e-16</td>\n",
              "      <td>-2.296152e-15</td>\n",
              "      <td>1.744357e-15</td>\n",
              "      <td>-1.191782e-15</td>\n",
              "      <td>6.157933e-16</td>\n",
              "      <td>-5.041076e-15</td>\n",
              "      <td>-2.114789e-15</td>\n",
              "      <td>6.228176e-16</td>\n",
              "      <td>-2.056547e-16</td>\n",
              "      <td>-2.437613e-15</td>\n",
              "      <td>2.527562e-15</td>\n",
              "      <td>0.627417</td>\n",
              "    </tr>\n",
              "    <tr>\n",
              "      <th>std</th>\n",
              "      <td>1.000880e+00</td>\n",
              "      <td>1.000880e+00</td>\n",
              "      <td>1.000880e+00</td>\n",
              "      <td>1.000880e+00</td>\n",
              "      <td>1.000880e+00</td>\n",
              "      <td>1.000880e+00</td>\n",
              "      <td>1.000880e+00</td>\n",
              "      <td>1.000880e+00</td>\n",
              "      <td>1.000880e+00</td>\n",
              "      <td>1.000880e+00</td>\n",
              "      <td>1.000880e+00</td>\n",
              "      <td>1.000880e+00</td>\n",
              "      <td>1.000880e+00</td>\n",
              "      <td>1.000880e+00</td>\n",
              "      <td>1.000880e+00</td>\n",
              "      <td>1.000880e+00</td>\n",
              "      <td>1.000880e+00</td>\n",
              "      <td>1.000880e+00</td>\n",
              "      <td>1.000880e+00</td>\n",
              "      <td>1.000880e+00</td>\n",
              "      <td>1.000880e+00</td>\n",
              "      <td>1.000880e+00</td>\n",
              "      <td>1.000880e+00</td>\n",
              "      <td>1.000880e+00</td>\n",
              "      <td>1.000880e+00</td>\n",
              "      <td>1.000880e+00</td>\n",
              "      <td>1.000880e+00</td>\n",
              "      <td>1.000880e+00</td>\n",
              "      <td>1.000880e+00</td>\n",
              "      <td>1.000880e+00</td>\n",
              "      <td>0.483918</td>\n",
              "    </tr>\n",
              "    <tr>\n",
              "      <th>min</th>\n",
              "      <td>-2.029648e+00</td>\n",
              "      <td>-2.229249e+00</td>\n",
              "      <td>-1.984504e+00</td>\n",
              "      <td>-1.454443e+00</td>\n",
              "      <td>-3.112085e+00</td>\n",
              "      <td>-1.610136e+00</td>\n",
              "      <td>-1.114873e+00</td>\n",
              "      <td>-1.261820e+00</td>\n",
              "      <td>-2.744117e+00</td>\n",
              "      <td>-1.819865e+00</td>\n",
              "      <td>-1.059924e+00</td>\n",
              "      <td>-1.554264e+00</td>\n",
              "      <td>-1.044049e+00</td>\n",
              "      <td>-7.378291e-01</td>\n",
              "      <td>-1.776065e+00</td>\n",
              "      <td>-1.298098e+00</td>\n",
              "      <td>-1.057501e+00</td>\n",
              "      <td>-1.913447e+00</td>\n",
              "      <td>-1.532890e+00</td>\n",
              "      <td>-1.096968e+00</td>\n",
              "      <td>-1.726901e+00</td>\n",
              "      <td>-2.223994e+00</td>\n",
              "      <td>-1.693361e+00</td>\n",
              "      <td>-1.222423e+00</td>\n",
              "      <td>-2.682695e+00</td>\n",
              "      <td>-1.443878e+00</td>\n",
              "      <td>-1.305831e+00</td>\n",
              "      <td>-1.745063e+00</td>\n",
              "      <td>-2.160960e+00</td>\n",
              "      <td>-1.601839e+00</td>\n",
              "      <td>0.000000</td>\n",
              "    </tr>\n",
              "    <tr>\n",
              "      <th>25%</th>\n",
              "      <td>-6.893853e-01</td>\n",
              "      <td>-7.259631e-01</td>\n",
              "      <td>-6.919555e-01</td>\n",
              "      <td>-6.671955e-01</td>\n",
              "      <td>-7.109628e-01</td>\n",
              "      <td>-7.470860e-01</td>\n",
              "      <td>-7.437479e-01</td>\n",
              "      <td>-7.379438e-01</td>\n",
              "      <td>-7.032397e-01</td>\n",
              "      <td>-7.226392e-01</td>\n",
              "      <td>-6.235706e-01</td>\n",
              "      <td>-6.948092e-01</td>\n",
              "      <td>-6.237679e-01</td>\n",
              "      <td>-4.947542e-01</td>\n",
              "      <td>-6.240183e-01</td>\n",
              "      <td>-6.929263e-01</td>\n",
              "      <td>-5.571612e-01</td>\n",
              "      <td>-6.744900e-01</td>\n",
              "      <td>-6.516807e-01</td>\n",
              "      <td>-5.851185e-01</td>\n",
              "      <td>-6.749213e-01</td>\n",
              "      <td>-7.486293e-01</td>\n",
              "      <td>-6.895783e-01</td>\n",
              "      <td>-6.421359e-01</td>\n",
              "      <td>-6.912304e-01</td>\n",
              "      <td>-6.810833e-01</td>\n",
              "      <td>-7.565142e-01</td>\n",
              "      <td>-7.563999e-01</td>\n",
              "      <td>-6.418637e-01</td>\n",
              "      <td>-6.919118e-01</td>\n",
              "      <td>0.000000</td>\n",
              "    </tr>\n",
              "    <tr>\n",
              "      <th>50%</th>\n",
              "      <td>-2.150816e-01</td>\n",
              "      <td>-1.046362e-01</td>\n",
              "      <td>-2.359800e-01</td>\n",
              "      <td>-2.951869e-01</td>\n",
              "      <td>-3.489108e-02</td>\n",
              "      <td>-2.219405e-01</td>\n",
              "      <td>-3.422399e-01</td>\n",
              "      <td>-3.977212e-01</td>\n",
              "      <td>-7.162650e-02</td>\n",
              "      <td>-1.782793e-01</td>\n",
              "      <td>-2.922452e-01</td>\n",
              "      <td>-1.974976e-01</td>\n",
              "      <td>-2.866520e-01</td>\n",
              "      <td>-3.477828e-01</td>\n",
              "      <td>-2.203352e-01</td>\n",
              "      <td>-2.810204e-01</td>\n",
              "      <td>-1.990654e-01</td>\n",
              "      <td>-1.404958e-01</td>\n",
              "      <td>-2.194304e-01</td>\n",
              "      <td>-2.299405e-01</td>\n",
              "      <td>-2.690395e-01</td>\n",
              "      <td>-4.351564e-02</td>\n",
              "      <td>-2.859802e-01</td>\n",
              "      <td>-3.411812e-01</td>\n",
              "      <td>-4.684277e-02</td>\n",
              "      <td>-2.695009e-01</td>\n",
              "      <td>-2.182321e-01</td>\n",
              "      <td>-2.234689e-01</td>\n",
              "      <td>-1.274095e-01</td>\n",
              "      <td>-2.164441e-01</td>\n",
              "      <td>1.000000</td>\n",
              "    </tr>\n",
              "    <tr>\n",
              "      <th>75%</th>\n",
              "      <td>4.693926e-01</td>\n",
              "      <td>5.841756e-01</td>\n",
              "      <td>4.996769e-01</td>\n",
              "      <td>3.635073e-01</td>\n",
              "      <td>6.361990e-01</td>\n",
              "      <td>4.938569e-01</td>\n",
              "      <td>5.260619e-01</td>\n",
              "      <td>6.469351e-01</td>\n",
              "      <td>5.307792e-01</td>\n",
              "      <td>4.709834e-01</td>\n",
              "      <td>2.660996e-01</td>\n",
              "      <td>4.665523e-01</td>\n",
              "      <td>2.430307e-01</td>\n",
              "      <td>1.067726e-01</td>\n",
              "      <td>3.683553e-01</td>\n",
              "      <td>3.896541e-01</td>\n",
              "      <td>3.367521e-01</td>\n",
              "      <td>4.726567e-01</td>\n",
              "      <td>3.556925e-01</td>\n",
              "      <td>2.886421e-01</td>\n",
              "      <td>5.220158e-01</td>\n",
              "      <td>6.583411e-01</td>\n",
              "      <td>5.402790e-01</td>\n",
              "      <td>3.575891e-01</td>\n",
              "      <td>5.975448e-01</td>\n",
              "      <td>5.396688e-01</td>\n",
              "      <td>5.311411e-01</td>\n",
              "      <td>7.125100e-01</td>\n",
              "      <td>4.501382e-01</td>\n",
              "      <td>4.507624e-01</td>\n",
              "      <td>1.000000</td>\n",
              "    </tr>\n",
              "    <tr>\n",
              "      <th>max</th>\n",
              "      <td>3.971288e+00</td>\n",
              "      <td>4.651889e+00</td>\n",
              "      <td>3.976130e+00</td>\n",
              "      <td>5.250529e+00</td>\n",
              "      <td>4.770911e+00</td>\n",
              "      <td>4.568425e+00</td>\n",
              "      <td>4.243589e+00</td>\n",
              "      <td>3.927930e+00</td>\n",
              "      <td>4.484751e+00</td>\n",
              "      <td>4.910919e+00</td>\n",
              "      <td>8.906909e+00</td>\n",
              "      <td>6.655279e+00</td>\n",
              "      <td>9.461986e+00</td>\n",
              "      <td>1.104184e+01</td>\n",
              "      <td>8.029999e+00</td>\n",
              "      <td>6.143482e+00</td>\n",
              "      <td>1.207268e+01</td>\n",
              "      <td>6.649601e+00</td>\n",
              "      <td>7.071917e+00</td>\n",
              "      <td>9.851593e+00</td>\n",
              "      <td>4.094189e+00</td>\n",
              "      <td>3.885905e+00</td>\n",
              "      <td>4.287337e+00</td>\n",
              "      <td>5.930172e+00</td>\n",
              "      <td>3.955374e+00</td>\n",
              "      <td>5.112877e+00</td>\n",
              "      <td>4.700669e+00</td>\n",
              "      <td>2.685877e+00</td>\n",
              "      <td>6.046041e+00</td>\n",
              "      <td>6.846856e+00</td>\n",
              "      <td>1.000000</td>\n",
              "    </tr>\n",
              "  </tbody>\n",
              "</table>\n",
              "</div>"
            ],
            "text/plain": [
              "        mean radius  mean texture  ...  worst fractal dimension       label\n",
              "count  5.690000e+02  5.690000e+02  ...             5.690000e+02  569.000000\n",
              "mean  -3.147648e-15 -6.575096e-15  ...             2.527562e-15    0.627417\n",
              "std    1.000880e+00  1.000880e+00  ...             1.000880e+00    0.483918\n",
              "min   -2.029648e+00 -2.229249e+00  ...            -1.601839e+00    0.000000\n",
              "25%   -6.893853e-01 -7.259631e-01  ...            -6.919118e-01    0.000000\n",
              "50%   -2.150816e-01 -1.046362e-01  ...            -2.164441e-01    1.000000\n",
              "75%    4.693926e-01  5.841756e-01  ...             4.507624e-01    1.000000\n",
              "max    3.971288e+00  4.651889e+00  ...             6.846856e+00    1.000000\n",
              "\n",
              "[8 rows x 31 columns]"
            ]
          },
          "metadata": {},
          "execution_count": 13
        }
      ]
    },
    {
      "cell_type": "code",
      "metadata": {
        "colab": {
          "base_uri": "https://localhost:8080/"
        },
        "id": "6KfbwhMPuNrE",
        "outputId": "70b06e89-7320-40b5-9bc8-ce23cddaf06a"
      },
      "source": [
        "df.info()"
      ],
      "execution_count": null,
      "outputs": [
        {
          "output_type": "stream",
          "name": "stdout",
          "text": [
            "<class 'pandas.core.frame.DataFrame'>\n",
            "Int64Index: 569 entries, 21 to 517\n",
            "Data columns (total 31 columns):\n",
            " #   Column                   Non-Null Count  Dtype  \n",
            "---  ------                   --------------  -----  \n",
            " 0   mean radius              569 non-null    float64\n",
            " 1   mean texture             569 non-null    float64\n",
            " 2   mean perimeter           569 non-null    float64\n",
            " 3   mean area                569 non-null    float64\n",
            " 4   mean smoothness          569 non-null    float64\n",
            " 5   mean compactness         569 non-null    float64\n",
            " 6   mean concavity           569 non-null    float64\n",
            " 7   mean concave points      569 non-null    float64\n",
            " 8   mean symmetry            569 non-null    float64\n",
            " 9   mean fractal dimension   569 non-null    float64\n",
            " 10  radius error             569 non-null    float64\n",
            " 11  texture error            569 non-null    float64\n",
            " 12  perimeter error          569 non-null    float64\n",
            " 13  area error               569 non-null    float64\n",
            " 14  smoothness error         569 non-null    float64\n",
            " 15  compactness error        569 non-null    float64\n",
            " 16  concavity error          569 non-null    float64\n",
            " 17  concave points error     569 non-null    float64\n",
            " 18  symmetry error           569 non-null    float64\n",
            " 19  fractal dimension error  569 non-null    float64\n",
            " 20  worst radius             569 non-null    float64\n",
            " 21  worst texture            569 non-null    float64\n",
            " 22  worst perimeter          569 non-null    float64\n",
            " 23  worst area               569 non-null    float64\n",
            " 24  worst smoothness         569 non-null    float64\n",
            " 25  worst compactness        569 non-null    float64\n",
            " 26  worst concavity          569 non-null    float64\n",
            " 27  worst concave points     569 non-null    float64\n",
            " 28  worst symmetry           569 non-null    float64\n",
            " 29  worst fractal dimension  569 non-null    float64\n",
            " 30  label                    569 non-null    int64  \n",
            "dtypes: float64(30), int64(1)\n",
            "memory usage: 142.2 KB\n"
          ]
        }
      ]
    },
    {
      "cell_type": "code",
      "metadata": {
        "id": "XTdRe5yjmUJx"
      },
      "source": [
        "X_train = feature[:500]\n",
        "y_train = label[:500]\n"
      ],
      "execution_count": null,
      "outputs": []
    },
    {
      "cell_type": "code",
      "metadata": {
        "id": "4Ib1M9zzEMlT"
      },
      "source": [
        "import matplotlib.pyplot as plt"
      ],
      "execution_count": null,
      "outputs": []
    },
    {
      "cell_type": "code",
      "metadata": {
        "id": "TacAjUEuE_Ke"
      },
      "source": [
        "mean_radius =df.values[:,0]\n",
        "label=df.values[:,-1]"
      ],
      "execution_count": null,
      "outputs": []
    },
    {
      "cell_type": "code",
      "metadata": {
        "colab": {
          "base_uri": "https://localhost:8080/",
          "height": 279
        },
        "id": "nDbD6dG-EUOi",
        "outputId": "2c6f0909-5832-4766-edc0-e47e2d15bd57"
      },
      "source": [
        "plt.xlabel(\"Mean radius\")\n",
        "plt.ylabel(\"label\")\n",
        "plt.plot(mean_radius , label,'o')\n",
        "plt.show()"
      ],
      "execution_count": null,
      "outputs": [
        {
          "output_type": "display_data",
          "data": {
            "image/png": "[encoded data removed]",
            "text/plain": [
              "<Figure size 432x288 with 1 Axes>"
            ]
          },
          "metadata": {
            "needs_background": "light"
          }
        }
      ]
    },
    {
      "cell_type": "code",
      "metadata": {
        "id": "aY65XXajEULV"
      },
      "source": [
        "mean_texture =df.values[:,1]\n",
        "label=df.values[:,-1]"
      ],
      "execution_count": null,
      "outputs": []
    },
    {
      "cell_type": "code",
      "metadata": {
        "colab": {
          "base_uri": "https://localhost:8080/",
          "height": 279
        },
        "id": "vhw_x1dxvB4R",
        "outputId": "ecd166b6-32cd-44a8-f70d-df7c8d328af5"
      },
      "source": [
        "plt.xlabel(\"Mean texture\")\n",
        "plt.ylabel(\"label\")\n",
        "plt.plot(mean_texture, label,'o')\n",
        "plt.show()"
      ],
      "execution_count": null,
      "outputs": [
        {
          "output_type": "display_data",
          "data": {
            "image/png": "[encoded data removed]",
            "text/plain": [
              "<Figure size 432x288 with 1 Axes>"
            ]
          },
          "metadata": {
            "needs_background": "light"
          }
        }
      ]
    },
    {
      "cell_type": "code",
      "metadata": {
        "colab": {
          "base_uri": "https://localhost:8080/",
          "height": 478
        },
        "id": "rh68poOFEUIZ",
        "outputId": "9b864cf3-fc81-4321-f232-e90664feb25a"
      },
      "source": [
        "df"
      ],
      "execution_count": null,
      "outputs": [
        {
          "output_type": "execute_result",
          "data": {
            "text/html": [
              "<div>\n",
              "<style scoped>\n",
              "    .dataframe tbody tr th:only-of-type {\n",
              "        vertical-align: middle;\n",
              "    }\n",
              "\n",
              "    .dataframe tbody tr th {\n",
              "        vertical-align: top;\n",
              "    }\n",
              "\n",
              "    .dataframe thead th {\n",
              "        text-align: right;\n",
              "    }\n",
              "</style>\n",
              "<table border=\"1\" class=\"dataframe\">\n",
              "  <thead>\n",
              "    <tr style=\"text-align: right;\">\n",
              "      <th></th>\n",
              "      <th>mean radius</th>\n",
              "      <th>mean texture</th>\n",
              "      <th>mean perimeter</th>\n",
              "      <th>mean area</th>\n",
              "      <th>mean smoothness</th>\n",
              "      <th>mean compactness</th>\n",
              "      <th>mean concavity</th>\n",
              "      <th>mean concave points</th>\n",
              "      <th>mean symmetry</th>\n",
              "      <th>mean fractal dimension</th>\n",
              "      <th>radius error</th>\n",
              "      <th>texture error</th>\n",
              "      <th>perimeter error</th>\n",
              "      <th>area error</th>\n",
              "      <th>smoothness error</th>\n",
              "      <th>compactness error</th>\n",
              "      <th>concavity error</th>\n",
              "      <th>concave points error</th>\n",
              "      <th>symmetry error</th>\n",
              "      <th>fractal dimension error</th>\n",
              "      <th>worst radius</th>\n",
              "      <th>worst texture</th>\n",
              "      <th>worst perimeter</th>\n",
              "      <th>worst area</th>\n",
              "      <th>worst smoothness</th>\n",
              "      <th>worst compactness</th>\n",
              "      <th>worst concavity</th>\n",
              "      <th>worst concave points</th>\n",
              "      <th>worst symmetry</th>\n",
              "      <th>worst fractal dimension</th>\n",
              "      <th>label</th>\n",
              "    </tr>\n",
              "  </thead>\n",
              "  <tbody>\n",
              "    <tr>\n",
              "      <th>21</th>\n",
              "      <td>-1.313080</td>\n",
              "      <td>-1.593959</td>\n",
              "      <td>-1.302806</td>\n",
              "      <td>-1.083572</td>\n",
              "      <td>0.429819</td>\n",
              "      <td>-0.747086</td>\n",
              "      <td>-0.743748</td>\n",
              "      <td>-0.726337</td>\n",
              "      <td>0.012345</td>\n",
              "      <td>0.886341</td>\n",
              "      <td>-0.461517</td>\n",
              "      <td>-0.435539</td>\n",
              "      <td>-0.473774</td>\n",
              "      <td>-0.542058</td>\n",
              "      <td>0.855042</td>\n",
              "      <td>-0.623623</td>\n",
              "      <td>-0.399334</td>\n",
              "      <td>0.391552</td>\n",
              "      <td>-0.032970</td>\n",
              "      <td>-0.312777</td>\n",
              "      <td>-1.250611</td>\n",
              "      <td>-1.631243</td>\n",
              "      <td>-1.254913</td>\n",
              "      <td>-0.994422</td>\n",
              "      <td>0.001377</td>\n",
              "      <td>-0.887193</td>\n",
              "      <td>-0.880434</td>\n",
              "      <td>-0.796903</td>\n",
              "      <td>-0.729224</td>\n",
              "      <td>-0.344455</td>\n",
              "      <td>1</td>\n",
              "    </tr>\n",
              "    <tr>\n",
              "      <th>218</th>\n",
              "      <td>1.611130</td>\n",
              "      <td>0.528326</td>\n",
              "      <td>1.554146</td>\n",
              "      <td>1.635674</td>\n",
              "      <td>-0.180069</td>\n",
              "      <td>0.497647</td>\n",
              "      <td>0.482119</td>\n",
              "      <td>0.979935</td>\n",
              "      <td>1.030958</td>\n",
              "      <td>-0.990566</td>\n",
              "      <td>1.985527</td>\n",
              "      <td>-0.055979</td>\n",
              "      <td>1.792477</td>\n",
              "      <td>1.849528</td>\n",
              "      <td>-0.078996</td>\n",
              "      <td>0.347178</td>\n",
              "      <td>0.085090</td>\n",
              "      <td>0.863582</td>\n",
              "      <td>-0.190372</td>\n",
              "      <td>0.094599</td>\n",
              "      <td>1.959169</td>\n",
              "      <td>0.482470</td>\n",
              "      <td>1.877663</td>\n",
              "      <td>1.983658</td>\n",
              "      <td>0.128501</td>\n",
              "      <td>0.440431</td>\n",
              "      <td>0.429434</td>\n",
              "      <td>1.026178</td>\n",
              "      <td>0.273800</td>\n",
              "      <td>-0.077350</td>\n",
              "      <td>0</td>\n",
              "    </tr>\n",
              "    <tr>\n",
              "      <th>116</th>\n",
              "      <td>-1.470424</td>\n",
              "      <td>-0.821373</td>\n",
              "      <td>-1.368711</td>\n",
              "      <td>-1.165198</td>\n",
              "      <td>-0.123848</td>\n",
              "      <td>0.378253</td>\n",
              "      <td>0.048094</td>\n",
              "      <td>-0.666494</td>\n",
              "      <td>-1.849636</td>\n",
              "      <td>1.252083</td>\n",
              "      <td>-0.331946</td>\n",
              "      <td>-0.431729</td>\n",
              "      <td>0.204913</td>\n",
              "      <td>-0.514776</td>\n",
              "      <td>3.769827</td>\n",
              "      <td>2.354171</td>\n",
              "      <td>2.013834</td>\n",
              "      <td>1.830352</td>\n",
              "      <td>0.399281</td>\n",
              "      <td>0.683158</td>\n",
              "      <td>-1.419590</td>\n",
              "      <td>-1.401633</td>\n",
              "      <td>-1.308230</td>\n",
              "      <td>-1.073352</td>\n",
              "      <td>-0.634244</td>\n",
              "      <td>-0.422174</td>\n",
              "      <td>-0.565093</td>\n",
              "      <td>-1.159448</td>\n",
              "      <td>-2.020213</td>\n",
              "      <td>-0.372717</td>\n",
              "      <td>1</td>\n",
              "    </tr>\n",
              "    <tr>\n",
              "      <th>250</th>\n",
              "      <td>1.934906</td>\n",
              "      <td>0.993739</td>\n",
              "      <td>1.933096</td>\n",
              "      <td>2.016784</td>\n",
              "      <td>0.308838</td>\n",
              "      <td>1.066192</td>\n",
              "      <td>2.290035</td>\n",
              "      <td>2.117192</td>\n",
              "      <td>1.436213</td>\n",
              "      <td>-0.541186</td>\n",
              "      <td>2.161296</td>\n",
              "      <td>-0.718577</td>\n",
              "      <td>1.735548</td>\n",
              "      <td>2.146551</td>\n",
              "      <td>-0.586017</td>\n",
              "      <td>0.760202</td>\n",
              "      <td>2.098385</td>\n",
              "      <td>1.110141</td>\n",
              "      <td>0.419864</td>\n",
              "      <td>0.456586</td>\n",
              "      <td>1.928106</td>\n",
              "      <td>0.215406</td>\n",
              "      <td>1.728734</td>\n",
              "      <td>1.985416</td>\n",
              "      <td>-0.493969</td>\n",
              "      <td>0.400354</td>\n",
              "      <td>2.048118</td>\n",
              "      <td>1.460136</td>\n",
              "      <td>0.364396</td>\n",
              "      <td>-0.302339</td>\n",
              "      <td>0</td>\n",
              "    </tr>\n",
              "    <tr>\n",
              "      <th>430</th>\n",
              "      <td>0.219460</td>\n",
              "      <td>0.754052</td>\n",
              "      <td>0.417297</td>\n",
              "      <td>0.085638</td>\n",
              "      <td>0.221305</td>\n",
              "      <td>2.239288</td>\n",
              "      <td>2.316401</td>\n",
              "      <td>1.243034</td>\n",
              "      <td>0.837458</td>\n",
              "      <td>0.876418</td>\n",
              "      <td>-0.549221</td>\n",
              "      <td>-0.620421</td>\n",
              "      <td>0.296989</td>\n",
              "      <td>-0.355263</td>\n",
              "      <td>-0.025327</td>\n",
              "      <td>2.048456</td>\n",
              "      <td>1.570525</td>\n",
              "      <td>1.710316</td>\n",
              "      <td>-0.672264</td>\n",
              "      <td>0.752378</td>\n",
              "      <td>0.016734</td>\n",
              "      <td>0.308227</td>\n",
              "      <td>0.540279</td>\n",
              "      <td>-0.084174</td>\n",
              "      <td>0.417818</td>\n",
              "      <td>2.892750</td>\n",
              "      <td>3.021056</td>\n",
              "      <td>2.023520</td>\n",
              "      <td>-0.056227</td>\n",
              "      <td>1.748601</td>\n",
              "      <td>0</td>\n",
              "    </tr>\n",
              "    <tr>\n",
              "      <th>...</th>\n",
              "      <td>...</td>\n",
              "      <td>...</td>\n",
              "      <td>...</td>\n",
              "      <td>...</td>\n",
              "      <td>...</td>\n",
              "      <td>...</td>\n",
              "      <td>...</td>\n",
              "      <td>...</td>\n",
              "      <td>...</td>\n",
              "      <td>...</td>\n",
              "      <td>...</td>\n",
              "      <td>...</td>\n",
              "      <td>...</td>\n",
              "      <td>...</td>\n",
              "      <td>...</td>\n",
              "      <td>...</td>\n",
              "      <td>...</td>\n",
              "      <td>...</td>\n",
              "      <td>...</td>\n",
              "      <td>...</td>\n",
              "      <td>...</td>\n",
              "      <td>...</td>\n",
              "      <td>...</td>\n",
              "      <td>...</td>\n",
              "      <td>...</td>\n",
              "      <td>...</td>\n",
              "      <td>...</td>\n",
              "      <td>...</td>\n",
              "      <td>...</td>\n",
              "      <td>...</td>\n",
              "      <td>...</td>\n",
              "    </tr>\n",
              "    <tr>\n",
              "      <th>10</th>\n",
              "      <td>0.537556</td>\n",
              "      <td>0.919273</td>\n",
              "      <td>0.442011</td>\n",
              "      <td>0.406453</td>\n",
              "      <td>-1.017686</td>\n",
              "      <td>-0.713542</td>\n",
              "      <td>-0.700684</td>\n",
              "      <td>-0.404686</td>\n",
              "      <td>-1.035476</td>\n",
              "      <td>-0.826124</td>\n",
              "      <td>-0.092656</td>\n",
              "      <td>-0.054164</td>\n",
              "      <td>-0.198042</td>\n",
              "      <td>0.003805</td>\n",
              "      <td>-1.004034</td>\n",
              "      <td>-0.905921</td>\n",
              "      <td>-0.692442</td>\n",
              "      <td>-0.682114</td>\n",
              "      <td>-0.719485</td>\n",
              "      <td>-0.284787</td>\n",
              "      <td>0.604849</td>\n",
              "      <td>1.335771</td>\n",
              "      <td>0.492622</td>\n",
              "      <td>0.473611</td>\n",
              "      <td>-0.625477</td>\n",
              "      <td>-0.630828</td>\n",
              "      <td>-0.605872</td>\n",
              "      <td>-0.226210</td>\n",
              "      <td>0.076431</td>\n",
              "      <td>0.031819</td>\n",
              "      <td>0</td>\n",
              "    </tr>\n",
              "    <tr>\n",
              "      <th>190</th>\n",
              "      <td>0.026330</td>\n",
              "      <td>0.891349</td>\n",
              "      <td>0.098896</td>\n",
              "      <td>-0.127954</td>\n",
              "      <td>0.792763</td>\n",
              "      <td>2.595576</td>\n",
              "      <td>1.372267</td>\n",
              "      <td>0.445226</td>\n",
              "      <td>2.089732</td>\n",
              "      <td>1.789355</td>\n",
              "      <td>-0.430117</td>\n",
              "      <td>1.620475</td>\n",
              "      <td>-0.373282</td>\n",
              "      <td>-0.189590</td>\n",
              "      <td>0.309686</td>\n",
              "      <td>6.143482</td>\n",
              "      <td>2.808608</td>\n",
              "      <td>0.788966</td>\n",
              "      <td>3.703513</td>\n",
              "      <td>2.997678</td>\n",
              "      <td>-0.109586</td>\n",
              "      <td>1.873156</td>\n",
              "      <td>-0.025652</td>\n",
              "      <td>-0.207756</td>\n",
              "      <td>0.917547</td>\n",
              "      <td>4.315794</td>\n",
              "      <td>2.766307</td>\n",
              "      <td>0.953090</td>\n",
              "      <td>3.664668</td>\n",
              "      <td>3.361201</td>\n",
              "      <td>0</td>\n",
              "    </tr>\n",
              "    <tr>\n",
              "      <th>487</th>\n",
              "      <td>1.508885</td>\n",
              "      <td>-0.109290</td>\n",
              "      <td>1.488242</td>\n",
              "      <td>1.456496</td>\n",
              "      <td>0.892395</td>\n",
              "      <td>0.766758</td>\n",
              "      <td>1.717529</td>\n",
              "      <td>1.817982</td>\n",
              "      <td>0.041553</td>\n",
              "      <td>-0.233566</td>\n",
              "      <td>0.580101</td>\n",
              "      <td>0.346806</td>\n",
              "      <td>0.378669</td>\n",
              "      <td>0.602911</td>\n",
              "      <td>-0.584350</td>\n",
              "      <td>0.159389</td>\n",
              "      <td>0.353662</td>\n",
              "      <td>-0.005862</td>\n",
              "      <td>-0.408313</td>\n",
              "      <td>-0.220862</td>\n",
              "      <td>1.592632</td>\n",
              "      <td>0.767446</td>\n",
              "      <td>1.389175</td>\n",
              "      <td>1.510780</td>\n",
              "      <td>0.834259</td>\n",
              "      <td>0.752140</td>\n",
              "      <td>1.541979</td>\n",
              "      <td>1.391616</td>\n",
              "      <td>0.590885</td>\n",
              "      <td>0.340485</td>\n",
              "      <td>0</td>\n",
              "    </tr>\n",
              "    <tr>\n",
              "      <th>417</th>\n",
              "      <td>0.389869</td>\n",
              "      <td>0.416627</td>\n",
              "      <td>0.450249</td>\n",
              "      <td>0.421527</td>\n",
              "      <td>1.113008</td>\n",
              "      <td>0.999861</td>\n",
              "      <td>0.795994</td>\n",
              "      <td>0.925768</td>\n",
              "      <td>0.998100</td>\n",
              "      <td>0.828220</td>\n",
              "      <td>3.482267</td>\n",
              "      <td>-0.006991</td>\n",
              "      <td>3.246381</td>\n",
              "      <td>2.995817</td>\n",
              "      <td>0.385689</td>\n",
              "      <td>0.749583</td>\n",
              "      <td>0.432244</td>\n",
              "      <td>1.556217</td>\n",
              "      <td>-0.043867</td>\n",
              "      <td>0.764104</td>\n",
              "      <td>1.429037</td>\n",
              "      <td>0.321254</td>\n",
              "      <td>1.484490</td>\n",
              "      <td>1.524843</td>\n",
              "      <td>0.847409</td>\n",
              "      <td>0.928350</td>\n",
              "      <td>0.714407</td>\n",
              "      <td>1.504293</td>\n",
              "      <td>0.165409</td>\n",
              "      <td>1.155652</td>\n",
              "      <td>0</td>\n",
              "    </tr>\n",
              "    <tr>\n",
              "      <th>517</th>\n",
              "      <td>1.636691</td>\n",
              "      <td>0.225807</td>\n",
              "      <td>1.587098</td>\n",
              "      <td>1.590169</td>\n",
              "      <td>0.522334</td>\n",
              "      <td>0.505228</td>\n",
              "      <td>0.656634</td>\n",
              "      <td>1.170811</td>\n",
              "      <td>-0.035117</td>\n",
              "      <td>-0.130081</td>\n",
              "      <td>0.370767</td>\n",
              "      <td>-0.622598</td>\n",
              "      <td>0.390055</td>\n",
              "      <td>0.426017</td>\n",
              "      <td>-0.650686</td>\n",
              "      <td>-0.136825</td>\n",
              "      <td>-0.045548</td>\n",
              "      <td>-0.002618</td>\n",
              "      <td>-1.207431</td>\n",
              "      <td>-0.152777</td>\n",
              "      <td>1.545003</td>\n",
              "      <td>-0.072828</td>\n",
              "      <td>1.585762</td>\n",
              "      <td>1.345536</td>\n",
              "      <td>0.409050</td>\n",
              "      <td>0.487505</td>\n",
              "      <td>0.701933</td>\n",
              "      <td>0.710987</td>\n",
              "      <td>-0.569064</td>\n",
              "      <td>0.410863</td>\n",
              "      <td>0</td>\n",
              "    </tr>\n",
              "  </tbody>\n",
              "</table>\n",
              "<p>569 rows × 31 columns</p>\n",
              "</div>"
            ],
            "text/plain": [
              "     mean radius  mean texture  ...  worst fractal dimension  label\n",
              "21     -1.313080     -1.593959  ...                -0.344455      1\n",
              "218     1.611130      0.528326  ...                -0.077350      0\n",
              "116    -1.470424     -0.821373  ...                -0.372717      1\n",
              "250     1.934906      0.993739  ...                -0.302339      0\n",
              "430     0.219460      0.754052  ...                 1.748601      0\n",
              "..           ...           ...  ...                      ...    ...\n",
              "10      0.537556      0.919273  ...                 0.031819      0\n",
              "190     0.026330      0.891349  ...                 3.361201      0\n",
              "487     1.508885     -0.109290  ...                 0.340485      0\n",
              "417     0.389869      0.416627  ...                 1.155652      0\n",
              "517     1.636691      0.225807  ...                 0.410863      0\n",
              "\n",
              "[569 rows x 31 columns]"
            ]
          },
          "metadata": {},
          "execution_count": 21
        }
      ]
    },
    {
      "cell_type": "code",
      "metadata": {
        "id": "qB_eUpEeEUFK"
      },
      "source": [
        ""
      ],
      "execution_count": null,
      "outputs": []
    },
    {
      "cell_type": "code",
      "metadata": {
        "id": "AHbpGf0pEUBv"
      },
      "source": [
        ""
      ],
      "execution_count": null,
      "outputs": []
    },
    {
      "cell_type": "code",
      "metadata": {
        "id": "WPSfTFO6ET-D"
      },
      "source": [
        ""
      ],
      "execution_count": null,
      "outputs": []
    },
    {
      "cell_type": "code",
      "metadata": {
        "id": "vEvfN0MWET57"
      },
      "source": [
        ""
      ],
      "execution_count": null,
      "outputs": []
    },
    {
      "cell_type": "code",
      "metadata": {
        "colab": {
          "base_uri": "https://localhost:8080/"
        },
        "id": "WnXPmyMmmV_L",
        "outputId": "ec94ae6b-dde2-4b1a-d6fe-c370079b5d52"
      },
      "source": [
        "X_train"
      ],
      "execution_count": null,
      "outputs": [
        {
          "output_type": "execute_result",
          "data": {
            "text/plain": [
              "array([[-1.31308049, -1.59395919, -1.30280622, ..., -0.7969026 ,\n",
              "        -0.72922385, -0.34445459],\n",
              "       [ 1.61112968,  0.52832603,  1.55414607, ...,  1.02617791,\n",
              "         0.27380013, -0.07735035],\n",
              "       [-1.47042435, -0.8213729 , -1.36871054, ..., -1.15944788,\n",
              "        -2.02021278, -0.37271666],\n",
              "       ...,\n",
              "       [-0.51897679, -0.78879396, -0.54119942, ..., -1.01190215,\n",
              "        -0.67745487, -1.15740463],\n",
              "       [-0.4110514 ,  1.05889734, -0.38220524, ...,  0.86782129,\n",
              "         0.78016546,  1.0614447 ],\n",
              "       [-0.54453807, -0.29545573, -0.56261832, ..., -0.40070654,\n",
              "         0.51323166, -0.51236452]])"
            ]
          },
          "metadata": {},
          "execution_count": 22
        }
      ]
    },
    {
      "cell_type": "code",
      "metadata": {
        "id": "b3FFn74gmYLl"
      },
      "source": [
        "X_val = feature[500:535]\n",
        "y_val = label[500:535]\n",
        "\n",
        "#34 Testing\n",
        "X_test = feature[535:]\n",
        "y_test = label[535:]\n"
      ],
      "execution_count": null,
      "outputs": []
    },
    {
      "cell_type": "code",
      "metadata": {
        "colab": {
          "base_uri": "https://localhost:8080/"
        },
        "id": "wj8_p7-hmcz1",
        "outputId": "9713a43d-b8d7-4e89-b6ed-92e67e03c331"
      },
      "source": [
        "# Logistic Regression\n",
        "from sklearn.linear_model import LogisticRegression\n",
        "\n",
        "Lr=LogisticRegression(random_state=0)\n",
        "Lr.fit(X_train,y_train)"
      ],
      "execution_count": null,
      "outputs": [
        {
          "output_type": "stream",
          "name": "stderr",
          "text": [
            "/usr/local/lib/python3.7/dist-packages/sklearn/utils/validation.py:985: DataConversionWarning: A column-vector y was passed when a 1d array was expected. Please change the shape of y to (n_samples, ), for example using ravel().\n",
            "  y = column_or_1d(y, warn=True)\n"
          ]
        },
        {
          "output_type": "execute_result",
          "data": {
            "text/plain": [
              "LogisticRegression(random_state=0)"
            ]
          },
          "metadata": {},
          "execution_count": 24
        }
      ]
    },
    {
      "cell_type": "code",
      "metadata": {
        "id": "EQHCxo1zpIt1"
      },
      "source": [
        "predict=Lr.predict(X_val)"
      ],
      "execution_count": null,
      "outputs": []
    },
    {
      "cell_type": "code",
      "metadata": {
        "colab": {
          "base_uri": "https://localhost:8080/"
        },
        "id": "km_q11uPpK7n",
        "outputId": "05b23be8-91bb-43f6-bbef-360287691028"
      },
      "source": [
        "from sklearn.metrics import accuracy_score\n",
        "\n",
        "print(accuracy_score(predict,y_val))"
      ],
      "execution_count": null,
      "outputs": [
        {
          "output_type": "stream",
          "name": "stdout",
          "text": [
            "0.9714285714285714\n"
          ]
        }
      ]
    },
    {
      "cell_type": "code",
      "metadata": {
        "id": "OkLtAQgspMw3"
      },
      "source": [
        "predict=Lr.predict(X_test)\n"
      ],
      "execution_count": null,
      "outputs": []
    },
    {
      "cell_type": "code",
      "metadata": {
        "colab": {
          "base_uri": "https://localhost:8080/"
        },
        "id": "ubL3G5Xzp3eI",
        "outputId": "374b0ff9-abb1-4b03-e150-823aa321e770"
      },
      "source": [
        "print(accuracy_score(predict,y_test))"
      ],
      "execution_count": null,
      "outputs": [
        {
          "output_type": "stream",
          "name": "stdout",
          "text": [
            "0.9705882352941176\n"
          ]
        }
      ]
    },
    {
      "cell_type": "code",
      "metadata": {
        "colab": {
          "base_uri": "https://localhost:8080/"
        },
        "id": "rXfZlEt2p6a6",
        "outputId": "b5790d39-b869-4619-e247-85fbf05f8070"
      },
      "source": [
        "# svm\n",
        "from sklearn import svm\n",
        "regressor = svm.SVC()\n",
        "regressor.fit(X_train, y_train)"
      ],
      "execution_count": null,
      "outputs": [
        {
          "output_type": "stream",
          "name": "stderr",
          "text": [
            "/usr/local/lib/python3.7/dist-packages/sklearn/utils/validation.py:985: DataConversionWarning: A column-vector y was passed when a 1d array was expected. Please change the shape of y to (n_samples, ), for example using ravel().\n",
            "  y = column_or_1d(y, warn=True)\n"
          ]
        },
        {
          "output_type": "execute_result",
          "data": {
            "text/plain": [
              "SVC()"
            ]
          },
          "metadata": {},
          "execution_count": 29
        }
      ]
    },
    {
      "cell_type": "code",
      "metadata": {
        "id": "omMgiFAiq451"
      },
      "source": [
        "predict=regressor.predict(X_val)\n"
      ],
      "execution_count": null,
      "outputs": []
    },
    {
      "cell_type": "code",
      "metadata": {
        "colab": {
          "base_uri": "https://localhost:8080/"
        },
        "id": "jj7KPqmZsBEV",
        "outputId": "28c0dce6-91c7-41fd-a2a2-7197ce110fe6"
      },
      "source": [
        "predict"
      ],
      "execution_count": null,
      "outputs": [
        {
          "output_type": "execute_result",
          "data": {
            "text/plain": [
              "array([1., 0., 0., 1., 1., 0., 0., 1., 0., 0., 1., 1., 0., 1., 0., 1., 0.,\n",
              "       1., 0., 0., 1., 1., 1., 1., 1., 1., 1., 1., 1., 1., 1., 1., 1., 0.,\n",
              "       1.])"
            ]
          },
          "metadata": {},
          "execution_count": 31
        }
      ]
    },
    {
      "cell_type": "code",
      "metadata": {
        "colab": {
          "base_uri": "https://localhost:8080/"
        },
        "id": "Hpv8w6mXrPRw",
        "outputId": "8bd33967-8110-4f1d-f4fd-3fce639bfb16"
      },
      "source": [
        "print(accuracy_score(predict,y_val))"
      ],
      "execution_count": null,
      "outputs": [
        {
          "output_type": "stream",
          "name": "stdout",
          "text": [
            "0.9428571428571428\n"
          ]
        }
      ]
    },
    {
      "cell_type": "code",
      "metadata": {
        "colab": {
          "base_uri": "https://localhost:8080/"
        },
        "id": "dh5kXu4-raOk",
        "outputId": "b5e8dd8a-b07e-4308-f314-214de49a6a1b"
      },
      "source": [
        "predict"
      ],
      "execution_count": null,
      "outputs": [
        {
          "output_type": "execute_result",
          "data": {
            "text/plain": [
              "array([1., 0., 0., 1., 1., 0., 0., 1., 0., 0., 1., 1., 0., 1., 0., 1., 0.,\n",
              "       1., 0., 0., 1., 1., 1., 1., 1., 1., 1., 1., 1., 1., 1., 1., 1., 0.,\n",
              "       1.])"
            ]
          },
          "metadata": {},
          "execution_count": 33
        }
      ]
    },
    {
      "cell_type": "code",
      "metadata": {
        "id": "ThoAbBgJrcf5"
      },
      "source": [
        "predict=regressor.predict(X_test)"
      ],
      "execution_count": null,
      "outputs": []
    },
    {
      "cell_type": "code",
      "metadata": {
        "colab": {
          "base_uri": "https://localhost:8080/"
        },
        "id": "ky7q_P1PsJab",
        "outputId": "461e40fb-9881-471e-8e08-ce40ed53d32f"
      },
      "source": [
        "print(accuracy_score(predict,y_test))"
      ],
      "execution_count": null,
      "outputs": [
        {
          "output_type": "stream",
          "name": "stdout",
          "text": [
            "0.9705882352941176\n"
          ]
        }
      ]
    },
    {
      "cell_type": "code",
      "metadata": {
        "id": "CMh0vVXFsyUe"
      },
      "source": [
        "# decision tree classifer\n",
        "from sklearn.tree import DecisionTreeClassifier  \n",
        "classifier= DecisionTreeClassifier(criterion='entropy', random_state=0)  "
      ],
      "execution_count": null,
      "outputs": []
    },
    {
      "cell_type": "code",
      "metadata": {
        "colab": {
          "base_uri": "https://localhost:8080/"
        },
        "id": "JSmNM0QTtZdR",
        "outputId": "98b0bdca-0250-4587-ca8d-7e39ec01de42"
      },
      "source": [
        "classifier.fit(X_train, y_train)  "
      ],
      "execution_count": null,
      "outputs": [
        {
          "output_type": "execute_result",
          "data": {
            "text/plain": [
              "DecisionTreeClassifier(criterion='entropy', random_state=0)"
            ]
          },
          "metadata": {},
          "execution_count": 37
        }
      ]
    },
    {
      "cell_type": "code",
      "metadata": {
        "id": "MX4FM7ZutZZn"
      },
      "source": [
        "predict=classifier.predict(X_val)\n"
      ],
      "execution_count": null,
      "outputs": []
    },
    {
      "cell_type": "code",
      "metadata": {
        "colab": {
          "base_uri": "https://localhost:8080/"
        },
        "id": "9JZaFnk3tZW6",
        "outputId": "f474958e-1bbf-410c-ecec-e684aa69a8a9"
      },
      "source": [
        "print(accuracy_score(predict,y_val))"
      ],
      "execution_count": null,
      "outputs": [
        {
          "output_type": "stream",
          "name": "stdout",
          "text": [
            "0.9142857142857143\n"
          ]
        }
      ]
    },
    {
      "cell_type": "code",
      "metadata": {
        "id": "8sLKsF7WtZUO"
      },
      "source": [
        "predict=classifier.predict(X_test)"
      ],
      "execution_count": null,
      "outputs": []
    },
    {
      "cell_type": "code",
      "metadata": {
        "colab": {
          "base_uri": "https://localhost:8080/"
        },
        "id": "Q7pjbUOrtZR1",
        "outputId": "607d3d66-93c1-46ed-e4cf-1a3e64d77a80"
      },
      "source": [
        "print(accuracy_score(predict,y_test))"
      ],
      "execution_count": null,
      "outputs": [
        {
          "output_type": "stream",
          "name": "stdout",
          "text": [
            "0.9705882352941176\n"
          ]
        }
      ]
    },
    {
      "cell_type": "code",
      "metadata": {
        "id": "a8-qUWMysMDV"
      },
      "source": [
        "# Random forest classifier\n"
      ],
      "execution_count": null,
      "outputs": []
    },
    {
      "cell_type": "code",
      "metadata": {
        "id": "1BerR-3EuBjN"
      },
      "source": [
        "from sklearn.ensemble import RandomForestClassifier  \n",
        "classifier= RandomForestClassifier(n_estimators= 10, criterion=\"entropy\") "
      ],
      "execution_count": null,
      "outputs": []
    },
    {
      "cell_type": "code",
      "metadata": {
        "colab": {
          "base_uri": "https://localhost:8080/"
        },
        "id": "xSgt4pBHuBge",
        "outputId": "69a9b0ce-5d1c-4761-db40-5c9458df7356"
      },
      "source": [
        "classifier.fit(X_train, y_train)  "
      ],
      "execution_count": null,
      "outputs": [
        {
          "output_type": "stream",
          "name": "stderr",
          "text": [
            "/usr/local/lib/python3.7/dist-packages/ipykernel_launcher.py:1: DataConversionWarning: A column-vector y was passed when a 1d array was expected. Please change the shape of y to (n_samples,), for example using ravel().\n",
            "  \"\"\"Entry point for launching an IPython kernel.\n"
          ]
        },
        {
          "output_type": "execute_result",
          "data": {
            "text/plain": [
              "RandomForestClassifier(criterion='entropy', n_estimators=10)"
            ]
          },
          "metadata": {},
          "execution_count": 44
        }
      ]
    },
    {
      "cell_type": "code",
      "metadata": {
        "id": "j63IWWrtuBd4"
      },
      "source": [
        "predict=classifier.predict(X_val)"
      ],
      "execution_count": null,
      "outputs": []
    },
    {
      "cell_type": "code",
      "metadata": {
        "colab": {
          "base_uri": "https://localhost:8080/"
        },
        "id": "nwTcEZotuBY1",
        "outputId": "ced0ac59-e25d-48f9-a4e7-36ed7801f2c7"
      },
      "source": [
        "print(accuracy_score(predict,y_val))"
      ],
      "execution_count": null,
      "outputs": [
        {
          "output_type": "stream",
          "name": "stdout",
          "text": [
            "0.9428571428571428\n"
          ]
        }
      ]
    },
    {
      "cell_type": "code",
      "metadata": {
        "id": "zMh-Wh_RuBWE"
      },
      "source": [
        "predict=classifier.predict(X_test)"
      ],
      "execution_count": null,
      "outputs": []
    },
    {
      "cell_type": "code",
      "metadata": {
        "colab": {
          "base_uri": "https://localhost:8080/"
        },
        "id": "FgqVLfUiuBTP",
        "outputId": "ff8684c2-5e8c-4204-dec4-057a288598a2"
      },
      "source": [
        "print(accuracy_score(predict,y_test))"
      ],
      "execution_count": null,
      "outputs": [
        {
          "output_type": "stream",
          "name": "stdout",
          "text": [
            "0.9411764705882353\n"
          ]
        }
      ]
    },
    {
      "cell_type": "code",
      "metadata": {
        "colab": {
          "base_uri": "https://localhost:8080/"
        },
        "id": "0SJNLdJDsk96",
        "outputId": "d45648da-a338-49df-cce6-9223ea2d63e9"
      },
      "source": [
        "#KNN\n",
        "from sklearn.neighbors import KNeighborsClassifier\n",
        "neigh = KNeighborsClassifier(n_neighbors=10)\n",
        "neigh.fit(X_train, y_train)"
      ],
      "execution_count": null,
      "outputs": [
        {
          "output_type": "stream",
          "name": "stderr",
          "text": [
            "/usr/local/lib/python3.7/dist-packages/sklearn/neighbors/_classification.py:198: DataConversionWarning: A column-vector y was passed when a 1d array was expected. Please change the shape of y to (n_samples,), for example using ravel().\n",
            "  return self._fit(X, y)\n"
          ]
        },
        {
          "output_type": "execute_result",
          "data": {
            "text/plain": [
              "KNeighborsClassifier(n_neighbors=10)"
            ]
          },
          "metadata": {},
          "execution_count": 49
        }
      ]
    },
    {
      "cell_type": "code",
      "metadata": {
        "id": "rVAtHebku8x5"
      },
      "source": [
        "predict=neigh.predict(X_val)"
      ],
      "execution_count": null,
      "outputs": []
    },
    {
      "cell_type": "code",
      "metadata": {
        "colab": {
          "base_uri": "https://localhost:8080/"
        },
        "id": "U86qnsUkvEcf",
        "outputId": "73e08d37-c4b9-4b63-eefa-5671057b9938"
      },
      "source": [
        "print(accuracy_score(predict,y_val))"
      ],
      "execution_count": null,
      "outputs": [
        {
          "output_type": "stream",
          "name": "stdout",
          "text": [
            "0.9428571428571428\n"
          ]
        }
      ]
    },
    {
      "cell_type": "code",
      "metadata": {
        "id": "WWCzBI1DvIkr"
      },
      "source": [
        "predict=neigh.predict(X_test)"
      ],
      "execution_count": null,
      "outputs": []
    },
    {
      "cell_type": "code",
      "metadata": {
        "colab": {
          "base_uri": "https://localhost:8080/"
        },
        "id": "PsBwrF-yvLFo",
        "outputId": "c8101d60-7d8d-4986-d91c-57b995adfa9c"
      },
      "source": [
        "print(accuracy_score(predict,y_test))"
      ],
      "execution_count": null,
      "outputs": [
        {
          "output_type": "stream",
          "name": "stdout",
          "text": [
            "0.9411764705882353\n"
          ]
        }
      ]
    },
    {
      "cell_type": "code",
      "metadata": {
        "id": "7OgTPvVxvRCU"
      },
      "source": [
        "from sklearn.naive_bayes import GaussianNB"
      ],
      "execution_count": null,
      "outputs": []
    },
    {
      "cell_type": "code",
      "metadata": {
        "id": "ejz3E7_0wXj0"
      },
      "source": [
        " gnb = GaussianNB()"
      ],
      "execution_count": null,
      "outputs": []
    },
    {
      "cell_type": "code",
      "metadata": {
        "colab": {
          "base_uri": "https://localhost:8080/"
        },
        "id": "mCH_Merl7a-A",
        "outputId": "0b1a015b-2f84-49d2-80c6-006cf9376131"
      },
      "source": [
        "gnb.fit(X_train,y_train)"
      ],
      "execution_count": null,
      "outputs": [
        {
          "output_type": "stream",
          "name": "stderr",
          "text": [
            "/usr/local/lib/python3.7/dist-packages/sklearn/utils/validation.py:985: DataConversionWarning: A column-vector y was passed when a 1d array was expected. Please change the shape of y to (n_samples, ), for example using ravel().\n",
            "  y = column_or_1d(y, warn=True)\n"
          ]
        },
        {
          "output_type": "execute_result",
          "data": {
            "text/plain": [
              "GaussianNB()"
            ]
          },
          "metadata": {},
          "execution_count": 56
        }
      ]
    },
    {
      "cell_type": "code",
      "metadata": {
        "id": "ZtqPfFbG7j29"
      },
      "source": [
        "predict= gnb.predict(X_val)"
      ],
      "execution_count": null,
      "outputs": []
    },
    {
      "cell_type": "code",
      "metadata": {
        "colab": {
          "base_uri": "https://localhost:8080/"
        },
        "id": "tA_o94VW7wBT",
        "outputId": "c0b4046a-e05f-49e1-9424-93d8ff0d78a4"
      },
      "source": [
        "print(accuracy_score(predict,y_val))"
      ],
      "execution_count": null,
      "outputs": [
        {
          "output_type": "stream",
          "name": "stdout",
          "text": [
            "0.9142857142857143\n"
          ]
        }
      ]
    },
    {
      "cell_type": "code",
      "metadata": {
        "id": "jR1MZ9qv75Ug"
      },
      "source": [
        "predict= gnb.predict(X_test)"
      ],
      "execution_count": null,
      "outputs": []
    },
    {
      "cell_type": "code",
      "metadata": {
        "colab": {
          "base_uri": "https://localhost:8080/"
        },
        "id": "pXmFvW8P78Dx",
        "outputId": "a69a4e38-5af1-45a4-cefa-48d89f01718f"
      },
      "source": [
        "print(accuracy_score(predict,y_test))"
      ],
      "execution_count": null,
      "outputs": [
        {
          "output_type": "stream",
          "name": "stdout",
          "text": [
            "0.9117647058823529\n"
          ]
        }
      ]
    },
    {
      "cell_type": "code",
      "metadata": {
        "id": "Crvj7hXx7-Q2"
      },
      "source": [
        "model = Sequential()\n",
        "model.add(Dense(32, activation = 'relu', input_dim = 30))\n",
        "model.add(Dense(20, activation = 'relu'))\n",
        "model.add(Dense(1, activation = 'sigmoid'))"
      ],
      "execution_count": null,
      "outputs": []
    },
    {
      "cell_type": "code",
      "metadata": {
        "id": "XJ9FDzmBuG7V",
        "colab": {
          "base_uri": "https://localhost:8080/"
        },
        "outputId": "33d1c829-419c-4179-a17a-2913fec228e1"
      },
      "source": [
        "model.compile( loss = 'binary_crossentropy' , optimizer = 'adam' , metrics = ['accuracy'])\n",
        "\n",
        "model.fit( X_train , y_train, epochs = 20, batch_size = 10, validation_data = (X_val, y_val))\n",
        "\n"
      ],
      "execution_count": null,
      "outputs": [
        {
          "output_type": "stream",
          "name": "stdout",
          "text": [
            "Epoch 1/20\n",
            "50/50 [==============================] - 1s 5ms/step - loss: 0.4698 - accuracy: 0.8020 - val_loss: 0.2986 - val_accuracy: 0.9143\n",
            "Epoch 2/20\n",
            "50/50 [==============================] - 0s 3ms/step - loss: 0.1947 - accuracy: 0.9580 - val_loss: 0.1853 - val_accuracy: 0.9143\n",
            "Epoch 3/20\n",
            "50/50 [==============================] - 0s 2ms/step - loss: 0.1092 - accuracy: 0.9680 - val_loss: 0.1596 - val_accuracy: 0.9143\n",
            "Epoch 4/20\n",
            "50/50 [==============================] - 0s 2ms/step - loss: 0.0777 - accuracy: 0.9740 - val_loss: 0.1511 - val_accuracy: 0.9143\n",
            "Epoch 5/20\n",
            "50/50 [==============================] - 0s 2ms/step - loss: 0.0630 - accuracy: 0.9800 - val_loss: 0.1522 - val_accuracy: 0.9143\n",
            "Epoch 6/20\n",
            "50/50 [==============================] - 0s 2ms/step - loss: 0.0534 - accuracy: 0.9840 - val_loss: 0.1493 - val_accuracy: 0.9143\n",
            "Epoch 7/20\n",
            "50/50 [==============================] - 0s 2ms/step - loss: 0.0454 - accuracy: 0.9820 - val_loss: 0.1528 - val_accuracy: 0.9143\n",
            "Epoch 8/20\n",
            "50/50 [==============================] - 0s 2ms/step - loss: 0.0401 - accuracy: 0.9860 - val_loss: 0.1605 - val_accuracy: 0.9143\n",
            "Epoch 9/20\n",
            "50/50 [==============================] - 0s 2ms/step - loss: 0.0355 - accuracy: 0.9900 - val_loss: 0.1665 - val_accuracy: 0.9429\n",
            "Epoch 10/20\n",
            "50/50 [==============================] - 0s 2ms/step - loss: 0.0309 - accuracy: 0.9920 - val_loss: 0.1677 - val_accuracy: 0.9429\n",
            "Epoch 11/20\n",
            "50/50 [==============================] - 0s 2ms/step - loss: 0.0281 - accuracy: 0.9960 - val_loss: 0.1748 - val_accuracy: 0.9429\n",
            "Epoch 12/20\n",
            "50/50 [==============================] - 0s 2ms/step - loss: 0.0261 - accuracy: 0.9960 - val_loss: 0.1782 - val_accuracy: 0.9429\n",
            "Epoch 13/20\n",
            "50/50 [==============================] - 0s 2ms/step - loss: 0.0236 - accuracy: 0.9960 - val_loss: 0.1857 - val_accuracy: 0.9429\n",
            "Epoch 14/20\n",
            "50/50 [==============================] - 0s 2ms/step - loss: 0.0214 - accuracy: 0.9960 - val_loss: 0.1930 - val_accuracy: 0.9429\n",
            "Epoch 15/20\n",
            "50/50 [==============================] - 0s 2ms/step - loss: 0.0189 - accuracy: 0.9940 - val_loss: 0.2002 - val_accuracy: 0.9429\n",
            "Epoch 16/20\n",
            "50/50 [==============================] - 0s 2ms/step - loss: 0.0178 - accuracy: 0.9940 - val_loss: 0.2103 - val_accuracy: 0.9429\n",
            "Epoch 17/20\n",
            "50/50 [==============================] - 0s 2ms/step - loss: 0.0159 - accuracy: 0.9960 - val_loss: 0.2124 - val_accuracy: 0.9429\n",
            "Epoch 18/20\n",
            "50/50 [==============================] - 0s 2ms/step - loss: 0.0154 - accuracy: 0.9960 - val_loss: 0.2155 - val_accuracy: 0.9429\n",
            "Epoch 19/20\n",
            "50/50 [==============================] - 0s 3ms/step - loss: 0.0130 - accuracy: 1.0000 - val_loss: 0.2244 - val_accuracy: 0.9429\n",
            "Epoch 20/20\n",
            "50/50 [==============================] - 0s 2ms/step - loss: 0.0126 - accuracy: 0.9980 - val_loss: 0.2184 - val_accuracy: 0.9429\n"
          ]
        },
        {
          "output_type": "execute_result",
          "data": {
            "text/plain": [
              "<keras.callbacks.History at 0x7fe40d905650>"
            ]
          },
          "metadata": {},
          "execution_count": 69
        }
      ]
    },
    {
      "cell_type": "code",
      "metadata": {
        "colab": {
          "base_uri": "https://localhost:8080/"
        },
        "id": "JNucSznhxZsz",
        "outputId": "44b6297c-a421-4b44-d5c4-91ae51b660af"
      },
      "source": [
        "model.evaluate(X_test , y_test)"
      ],
      "execution_count": null,
      "outputs": [
        {
          "output_type": "stream",
          "name": "stdout",
          "text": [
            "2/2 [==============================] - 0s 7ms/step - loss: 0.3597 - accuracy: 0.9412\n"
          ]
        },
        {
          "output_type": "execute_result",
          "data": {
            "text/plain": [
              "[0.3597273826599121, 0.9411764740943909]"
            ]
          },
          "metadata": {},
          "execution_count": 71
        }
      ]
    },
    {
      "cell_type": "code",
      "metadata": {
        "colab": {
          "base_uri": "https://localhost:8080/"
        },
        "id": "H01pRLBwxr9E",
        "outputId": "c94910c4-f949-45cf-99fa-3ad98373159e"
      },
      "source": [
        "model.evaluate(X_val , y_val)"
      ],
      "execution_count": null,
      "outputs": [
        {
          "output_type": "stream",
          "name": "stdout",
          "text": [
            "2/2 [==============================] - 0s 5ms/step - loss: 0.2184 - accuracy: 0.9429\n"
          ]
        },
        {
          "output_type": "execute_result",
          "data": {
            "text/plain": [
              "[0.21837593615055084, 0.9428571462631226]"
            ]
          },
          "metadata": {},
          "execution_count": 70
        }
      ]
    },
    {
      "cell_type": "code",
      "metadata": {
        "colab": {
          "base_uri": "https://localhost:8080/"
        },
        "id": "VKmejiy8xZvw",
        "outputId": "dd65f283-3cea-4d58-d8f5-9d2a0d086448"
      },
      "source": [
        "for i in range(30):\n",
        "  sample = X_test[i]\n",
        "  sample = np.reshape(sample, (1,30))\n",
        "\n",
        "  if (model.predict(sample)[0][0] > 0.5):\n",
        "    print(\"-Benign\")\n",
        "  else:\n",
        "    print(\"-Malignant\")\n",
        "  if (y_test[i] == 1):\n",
        "    print(\"*Banign\")\n",
        "  else:\n",
        "    print(\"*Melignant\")\n",
        "  print(\"-----------\")\n"
      ],
      "execution_count": null,
      "outputs": [
        {
          "output_type": "stream",
          "name": "stdout",
          "text": [
            "-Benign\n",
            "*Banign\n",
            "-----------\n",
            "-Benign\n",
            "*Banign\n",
            "-----------\n",
            "-Benign\n",
            "*Banign\n",
            "-----------\n",
            "-Benign\n",
            "*Banign\n",
            "-----------\n",
            "-Benign\n",
            "*Banign\n",
            "-----------\n",
            "-Benign\n",
            "*Banign\n",
            "-----------\n",
            "-Malignant\n",
            "*Melignant\n",
            "-----------\n",
            "-Benign\n",
            "*Banign\n",
            "-----------\n",
            "-Benign\n",
            "*Banign\n",
            "-----------\n",
            "-Benign\n",
            "*Banign\n",
            "-----------\n",
            "-Benign\n",
            "*Banign\n",
            "-----------\n",
            "-Malignant\n",
            "*Melignant\n",
            "-----------\n",
            "-Benign\n",
            "*Banign\n",
            "-----------\n",
            "-Benign\n",
            "*Banign\n",
            "-----------\n",
            "-Benign\n",
            "*Banign\n",
            "-----------\n",
            "-Benign\n",
            "*Banign\n",
            "-----------\n",
            "-Malignant\n",
            "*Melignant\n",
            "-----------\n",
            "-Benign\n",
            "*Banign\n",
            "-----------\n",
            "-Benign\n",
            "*Banign\n",
            "-----------\n",
            "-Malignant\n",
            "*Melignant\n",
            "-----------\n",
            "-Benign\n",
            "*Banign\n",
            "-----------\n",
            "-Benign\n",
            "*Banign\n",
            "-----------\n",
            "-Benign\n",
            "*Banign\n",
            "-----------\n",
            "-Benign\n",
            "*Banign\n",
            "-----------\n",
            "-Malignant\n",
            "*Melignant\n",
            "-----------\n",
            "-Benign\n",
            "*Melignant\n",
            "-----------\n",
            "-Benign\n",
            "*Banign\n",
            "-----------\n",
            "-Benign\n",
            "*Banign\n",
            "-----------\n",
            "-Malignant\n",
            "*Melignant\n",
            "-----------\n",
            "-Malignant\n",
            "*Melignant\n",
            "-----------\n"
          ]
        }
      ]
    },
    {
      "cell_type": "code",
      "metadata": {
        "id": "nqv7WF2nxZzk"
      },
      "source": [
        ""
      ],
      "execution_count": null,
      "outputs": []
    },
    {
      "cell_type": "code",
      "metadata": {
        "id": "_D0FZhOqxZ2o"
      },
      "source": [
        ""
      ],
      "execution_count": null,
      "outputs": []
    }
  ]
}